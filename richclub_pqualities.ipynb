{
  "nbformat": 4,
  "nbformat_minor": 0,
  "metadata": {
    "colab": {
      "name": "Untitled48.ipynb",
      "provenance": [],
      "collapsed_sections": [],
      "authorship_tag": "ABX9TyNhVwWh5HVtCTqId5L3pJz+",
      "include_colab_link": true
    },
    "kernelspec": {
      "name": "python3",
      "display_name": "Python 3"
    },
    "language_info": {
      "name": "python"
    }
  },
  "cells": [
    {
      "cell_type": "markdown",
      "metadata": {
        "id": "view-in-github",
        "colab_type": "text"
      },
      "source": [
        "<a href=\"https://colab.research.google.com/github/imceballos/LogisticRegression/blob/master/richclub_pqualities.ipynb\" target=\"_parent\"><img src=\"https://colab.research.google.com/assets/colab-badge.svg\" alt=\"Open In Colab\"/></a>"
      ]
    },
    {
      "cell_type": "code",
      "metadata": {
        "id": "xlg0Eo92CLOJ"
      },
      "source": [
        "import pandas as pd"
      ],
      "execution_count": null,
      "outputs": []
    },
    {
      "cell_type": "code",
      "metadata": {
        "id": "TN30cdejCafo"
      },
      "source": [
        "df_rc_quality_gt = pd.read_excel(\"df_richclub_quality_gt.xlsx\")\n",
        "df_rc_quality_gcp = pd.read_excel(\"df_richclub_quality_gcp.xlsx\")\n",
        "df_rc_quality_gfilt = pd.read_excel(\"df_richclub_quality_gfilt.xlsx\")"
      ],
      "execution_count": null,
      "outputs": []
    },
    {
      "cell_type": "code",
      "metadata": {
        "id": "x32TIwQu2t2z"
      },
      "source": [
        "df_filtered_conn = pd.read_excel(\"filtered_connections_2009_2019.xlsx\")"
      ],
      "execution_count": 126,
      "outputs": []
    },
    {
      "cell_type": "code",
      "metadata": {
        "colab": {
          "base_uri": "https://localhost:8080/",
          "height": 203
        },
        "id": "dPalvodK3G7J",
        "outputId": "5084d159-f03b-4ece-d1a7-a43f868af3a5"
      },
      "source": [
        "df_filtered_conn.head()"
      ],
      "execution_count": 127,
      "outputs": [
        {
          "output_type": "execute_result",
          "data": {
            "text/html": [
              "<div>\n",
              "<style scoped>\n",
              "    .dataframe tbody tr th:only-of-type {\n",
              "        vertical-align: middle;\n",
              "    }\n",
              "\n",
              "    .dataframe tbody tr th {\n",
              "        vertical-align: top;\n",
              "    }\n",
              "\n",
              "    .dataframe thead th {\n",
              "        text-align: right;\n",
              "    }\n",
              "</style>\n",
              "<table border=\"1\" class=\"dataframe\">\n",
              "  <thead>\n",
              "    <tr style=\"text-align: right;\">\n",
              "      <th></th>\n",
              "      <th>Unnamed: 0</th>\n",
              "      <th>conn_1</th>\n",
              "      <th>conn_2</th>\n",
              "    </tr>\n",
              "  </thead>\n",
              "  <tbody>\n",
              "    <tr>\n",
              "      <th>0</th>\n",
              "      <td>0</td>\n",
              "      <td>o0</td>\n",
              "      <td>o1</td>\n",
              "    </tr>\n",
              "    <tr>\n",
              "      <th>1</th>\n",
              "      <td>1</td>\n",
              "      <td>o2</td>\n",
              "      <td>o79</td>\n",
              "    </tr>\n",
              "    <tr>\n",
              "      <th>2</th>\n",
              "      <td>2</td>\n",
              "      <td>o2</td>\n",
              "      <td>o161</td>\n",
              "    </tr>\n",
              "    <tr>\n",
              "      <th>3</th>\n",
              "      <td>3</td>\n",
              "      <td>o2</td>\n",
              "      <td>o568</td>\n",
              "    </tr>\n",
              "    <tr>\n",
              "      <th>4</th>\n",
              "      <td>4</td>\n",
              "      <td>o2</td>\n",
              "      <td>o4716</td>\n",
              "    </tr>\n",
              "  </tbody>\n",
              "</table>\n",
              "</div>"
            ],
            "text/plain": [
              "   Unnamed: 0 conn_1 conn_2\n",
              "0           0     o0     o1\n",
              "1           1     o2    o79\n",
              "2           2     o2   o161\n",
              "3           3     o2   o568\n",
              "4           4     o2  o4716"
            ]
          },
          "metadata": {},
          "execution_count": 127
        }
      ]
    },
    {
      "cell_type": "code",
      "metadata": {
        "id": "9WPppRCs3bkT"
      },
      "source": [
        "B_filtered = nx.Graph()\n",
        "B_filtered.add_edges_from(df_filtered_conn[[\"conn_1\",\"conn_2\"]].values.tolist())"
      ],
      "execution_count": 128,
      "outputs": []
    },
    {
      "cell_type": "code",
      "metadata": {
        "colab": {
          "base_uri": "https://localhost:8080/",
          "height": 35
        },
        "id": "ytKxIygK36BI",
        "outputId": "c2a0c846-c06a-4180-cc56-b89b531c05aa"
      },
      "source": [
        "nx.info(B_filtered)"
      ],
      "execution_count": 129,
      "outputs": [
        {
          "output_type": "execute_result",
          "data": {
            "application/vnd.google.colaboratory.intrinsic+json": {
              "type": "string"
            },
            "text/plain": [
              "'Graph with 1138 nodes and 1104 edges'"
            ]
          },
          "metadata": {},
          "execution_count": 129
        }
      ]
    },
    {
      "cell_type": "code",
      "metadata": {
        "colab": {
          "base_uri": "https://localhost:8080/",
          "height": 237
        },
        "id": "2r_IVxgPCiMP",
        "outputId": "8d1d6634-af48-4e3d-e0ca-9cb694978579"
      },
      "source": [
        "df_rc_quality_gt.head()"
      ],
      "execution_count": null,
      "outputs": [
        {
          "output_type": "execute_result",
          "data": {
            "text/html": [
              "<div>\n",
              "<style scoped>\n",
              "    .dataframe tbody tr th:only-of-type {\n",
              "        vertical-align: middle;\n",
              "    }\n",
              "\n",
              "    .dataframe tbody tr th {\n",
              "        vertical-align: top;\n",
              "    }\n",
              "\n",
              "    .dataframe thead th {\n",
              "        text-align: right;\n",
              "    }\n",
              "</style>\n",
              "<table border=\"1\" class=\"dataframe\">\n",
              "  <thead>\n",
              "    <tr style=\"text-align: right;\">\n",
              "      <th></th>\n",
              "      <th>Unnamed: 0</th>\n",
              "      <th>organization</th>\n",
              "      <th>p11</th>\n",
              "      <th>p23</th>\n",
              "      <th>p26a</th>\n",
              "      <th>p26c</th>\n",
              "      <th>p26e</th>\n",
              "      <th>p28a</th>\n",
              "      <th>p28c</th>\n",
              "      <th>p28e</th>\n",
              "      <th>name</th>\n",
              "      <th>degree</th>\n",
              "      <th>rich_club</th>\n",
              "      <th>rich_club_norm</th>\n",
              "    </tr>\n",
              "  </thead>\n",
              "  <tbody>\n",
              "    <tr>\n",
              "      <th>0</th>\n",
              "      <td>0</td>\n",
              "      <td>o7003</td>\n",
              "      <td>0.0</td>\n",
              "      <td>0.0</td>\n",
              "      <td>0.0</td>\n",
              "      <td>0.0</td>\n",
              "      <td>0.0</td>\n",
              "      <td>0.0</td>\n",
              "      <td>0.0</td>\n",
              "      <td>0.0</td>\n",
              "      <td>A.S.S.</td>\n",
              "      <td>4</td>\n",
              "      <td>0.003884</td>\n",
              "      <td>0.974938</td>\n",
              "    </tr>\n",
              "    <tr>\n",
              "      <th>1</th>\n",
              "      <td>1</td>\n",
              "      <td>o6382</td>\n",
              "      <td>2000.0</td>\n",
              "      <td>0.0</td>\n",
              "      <td>0.0</td>\n",
              "      <td>0.0</td>\n",
              "      <td>0.0</td>\n",
              "      <td>0.0</td>\n",
              "      <td>0.0</td>\n",
              "      <td>0.0</td>\n",
              "      <td>ACADEMIA NACIONAL DE LA LENGUA MAPUCHE</td>\n",
              "      <td>4</td>\n",
              "      <td>0.003884</td>\n",
              "      <td>0.974938</td>\n",
              "    </tr>\n",
              "    <tr>\n",
              "      <th>2</th>\n",
              "      <td>2</td>\n",
              "      <td>o3984</td>\n",
              "      <td>100.0</td>\n",
              "      <td>0.0</td>\n",
              "      <td>0.0</td>\n",
              "      <td>0.0</td>\n",
              "      <td>0.0</td>\n",
              "      <td>0.0</td>\n",
              "      <td>0.0</td>\n",
              "      <td>0.0</td>\n",
              "      <td>ACCIÓN FEMINISTA FLUOR</td>\n",
              "      <td>4</td>\n",
              "      <td>0.003884</td>\n",
              "      <td>0.974938</td>\n",
              "    </tr>\n",
              "    <tr>\n",
              "      <th>3</th>\n",
              "      <td>3</td>\n",
              "      <td>o6232</td>\n",
              "      <td>10.0</td>\n",
              "      <td>0.0</td>\n",
              "      <td>0.0</td>\n",
              "      <td>0.0</td>\n",
              "      <td>0.0</td>\n",
              "      <td>0.0</td>\n",
              "      <td>0.0</td>\n",
              "      <td>0.0</td>\n",
              "      <td>AFDD - TALCA</td>\n",
              "      <td>4</td>\n",
              "      <td>0.003884</td>\n",
              "      <td>0.974938</td>\n",
              "    </tr>\n",
              "    <tr>\n",
              "      <th>4</th>\n",
              "      <td>4</td>\n",
              "      <td>o489</td>\n",
              "      <td>0.0</td>\n",
              "      <td>0.0</td>\n",
              "      <td>0.0</td>\n",
              "      <td>0.0</td>\n",
              "      <td>0.0</td>\n",
              "      <td>0.0</td>\n",
              "      <td>0.0</td>\n",
              "      <td>0.0</td>\n",
              "      <td>AFUCOM</td>\n",
              "      <td>4</td>\n",
              "      <td>0.003884</td>\n",
              "      <td>0.974938</td>\n",
              "    </tr>\n",
              "  </tbody>\n",
              "</table>\n",
              "</div>"
            ],
            "text/plain": [
              "   Unnamed: 0 organization     p11  ...  degree  rich_club  rich_club_norm\n",
              "0           0        o7003     0.0  ...       4   0.003884        0.974938\n",
              "1           1        o6382  2000.0  ...       4   0.003884        0.974938\n",
              "2           2        o3984   100.0  ...       4   0.003884        0.974938\n",
              "3           3        o6232    10.0  ...       4   0.003884        0.974938\n",
              "4           4         o489     0.0  ...       4   0.003884        0.974938\n",
              "\n",
              "[5 rows x 14 columns]"
            ]
          },
          "metadata": {},
          "execution_count": 3
        }
      ]
    },
    {
      "cell_type": "code",
      "metadata": {
        "colab": {
          "base_uri": "https://localhost:8080/",
          "height": 672
        },
        "id": "qP45y1WBKjmV",
        "outputId": "70ad158b-1610-4329-9578-2c1b11f0603e"
      },
      "source": [
        "df_rc_quality_gt.sort_values('degree', ascending=False)"
      ],
      "execution_count": null,
      "outputs": [
        {
          "output_type": "execute_result",
          "data": {
            "text/html": [
              "<div>\n",
              "<style scoped>\n",
              "    .dataframe tbody tr th:only-of-type {\n",
              "        vertical-align: middle;\n",
              "    }\n",
              "\n",
              "    .dataframe tbody tr th {\n",
              "        vertical-align: top;\n",
              "    }\n",
              "\n",
              "    .dataframe thead th {\n",
              "        text-align: right;\n",
              "    }\n",
              "</style>\n",
              "<table border=\"1\" class=\"dataframe\">\n",
              "  <thead>\n",
              "    <tr style=\"text-align: right;\">\n",
              "      <th></th>\n",
              "      <th>Unnamed: 0</th>\n",
              "      <th>organization</th>\n",
              "      <th>p11</th>\n",
              "      <th>p23</th>\n",
              "      <th>p26a</th>\n",
              "      <th>p26c</th>\n",
              "      <th>p26e</th>\n",
              "      <th>p28a</th>\n",
              "      <th>p28c</th>\n",
              "      <th>p28e</th>\n",
              "      <th>name</th>\n",
              "      <th>degree</th>\n",
              "      <th>rich_club</th>\n",
              "      <th>rich_club_norm</th>\n",
              "    </tr>\n",
              "  </thead>\n",
              "  <tbody>\n",
              "    <tr>\n",
              "      <th>10707</th>\n",
              "      <td>10707</td>\n",
              "      <td>o67</td>\n",
              "      <td>4954.906433</td>\n",
              "      <td>5.032164</td>\n",
              "      <td>0.083333</td>\n",
              "      <td>0.377193</td>\n",
              "      <td>0.070175</td>\n",
              "      <td>0.000000</td>\n",
              "      <td>0.0</td>\n",
              "      <td>0.000000</td>\n",
              "      <td>CUT</td>\n",
              "      <td>450</td>\n",
              "      <td>NaN</td>\n",
              "      <td>NaN</td>\n",
              "    </tr>\n",
              "    <tr>\n",
              "      <th>10677</th>\n",
              "      <td>10677</td>\n",
              "      <td>o96</td>\n",
              "      <td>3032.138393</td>\n",
              "      <td>2.467634</td>\n",
              "      <td>0.081473</td>\n",
              "      <td>0.161830</td>\n",
              "      <td>0.045759</td>\n",
              "      <td>0.000000</td>\n",
              "      <td>0.0</td>\n",
              "      <td>0.001116</td>\n",
              "      <td>ANEF</td>\n",
              "      <td>440</td>\n",
              "      <td>0.000000</td>\n",
              "      <td>0.000000</td>\n",
              "    </tr>\n",
              "    <tr>\n",
              "      <th>10700</th>\n",
              "      <td>10700</td>\n",
              "      <td>o79</td>\n",
              "      <td>4244.522609</td>\n",
              "      <td>3.208696</td>\n",
              "      <td>0.083478</td>\n",
              "      <td>0.200870</td>\n",
              "      <td>0.014783</td>\n",
              "      <td>0.001739</td>\n",
              "      <td>0.0</td>\n",
              "      <td>0.000000</td>\n",
              "      <td>COLEGIO DE PROFESORES</td>\n",
              "      <td>370</td>\n",
              "      <td>0.333333</td>\n",
              "      <td>0.031931</td>\n",
              "    </tr>\n",
              "    <tr>\n",
              "      <th>10704</th>\n",
              "      <td>10704</td>\n",
              "      <td>o263</td>\n",
              "      <td>9278.374245</td>\n",
              "      <td>12.845070</td>\n",
              "      <td>0.162978</td>\n",
              "      <td>0.899396</td>\n",
              "      <td>0.108652</td>\n",
              "      <td>0.004024</td>\n",
              "      <td>0.0</td>\n",
              "      <td>0.002012</td>\n",
              "      <td>CONFECH</td>\n",
              "      <td>244</td>\n",
              "      <td>0.500000</td>\n",
              "      <td>0.059763</td>\n",
              "    </tr>\n",
              "    <tr>\n",
              "      <th>10721</th>\n",
              "      <td>10721</td>\n",
              "      <td>o84</td>\n",
              "      <td>432.598592</td>\n",
              "      <td>0.771127</td>\n",
              "      <td>0.007042</td>\n",
              "      <td>0.000000</td>\n",
              "      <td>0.007042</td>\n",
              "      <td>0.000000</td>\n",
              "      <td>0.0</td>\n",
              "      <td>0.000000</td>\n",
              "      <td>FENATS</td>\n",
              "      <td>118</td>\n",
              "      <td>0.600000</td>\n",
              "      <td>0.096344</td>\n",
              "    </tr>\n",
              "    <tr>\n",
              "      <th>...</th>\n",
              "      <td>...</td>\n",
              "      <td>...</td>\n",
              "      <td>...</td>\n",
              "      <td>...</td>\n",
              "      <td>...</td>\n",
              "      <td>...</td>\n",
              "      <td>...</td>\n",
              "      <td>...</td>\n",
              "      <td>...</td>\n",
              "      <td>...</td>\n",
              "      <td>...</td>\n",
              "      <td>...</td>\n",
              "      <td>...</td>\n",
              "      <td>...</td>\n",
              "    </tr>\n",
              "    <tr>\n",
              "      <th>4185</th>\n",
              "      <td>4185</td>\n",
              "      <td>o4438</td>\n",
              "      <td>0.000000</td>\n",
              "      <td>14.000000</td>\n",
              "      <td>0.000000</td>\n",
              "      <td>0.000000</td>\n",
              "      <td>0.000000</td>\n",
              "      <td>0.000000</td>\n",
              "      <td>0.0</td>\n",
              "      <td>0.000000</td>\n",
              "      <td>RECUPERACCIÓN COMUNITARIA</td>\n",
              "      <td>0</td>\n",
              "      <td>0.000146</td>\n",
              "      <td>1.000092</td>\n",
              "    </tr>\n",
              "    <tr>\n",
              "      <th>4186</th>\n",
              "      <td>4186</td>\n",
              "      <td>o5499</td>\n",
              "      <td>0.000000</td>\n",
              "      <td>0.000000</td>\n",
              "      <td>0.000000</td>\n",
              "      <td>0.000000</td>\n",
              "      <td>0.000000</td>\n",
              "      <td>0.000000</td>\n",
              "      <td>0.0</td>\n",
              "      <td>0.000000</td>\n",
              "      <td>RED CHILENA CONTRA LA NO VIOLENCIA</td>\n",
              "      <td>0</td>\n",
              "      <td>0.000146</td>\n",
              "      <td>1.000092</td>\n",
              "    </tr>\n",
              "    <tr>\n",
              "      <th>4187</th>\n",
              "      <td>4187</td>\n",
              "      <td>o4738</td>\n",
              "      <td>0.000000</td>\n",
              "      <td>0.000000</td>\n",
              "      <td>0.000000</td>\n",
              "      <td>0.000000</td>\n",
              "      <td>0.000000</td>\n",
              "      <td>0.000000</td>\n",
              "      <td>0.0</td>\n",
              "      <td>0.000000</td>\n",
              "      <td>RED CHILENA CONTRA LA VIOLENCIA CONTRA LA MUJER</td>\n",
              "      <td>0</td>\n",
              "      <td>0.000146</td>\n",
              "      <td>1.000092</td>\n",
              "    </tr>\n",
              "    <tr>\n",
              "      <th>4188</th>\n",
              "      <td>4188</td>\n",
              "      <td>o9370</td>\n",
              "      <td>0.000000</td>\n",
              "      <td>0.000000</td>\n",
              "      <td>0.000000</td>\n",
              "      <td>0.000000</td>\n",
              "      <td>0.000000</td>\n",
              "      <td>0.000000</td>\n",
              "      <td>0.0</td>\n",
              "      <td>0.000000</td>\n",
              "      <td>RED CHILENA CONTRA LA VIOLENCIA CONTRA LAS MUJ...</td>\n",
              "      <td>0</td>\n",
              "      <td>0.000146</td>\n",
              "      <td>1.000092</td>\n",
              "    </tr>\n",
              "    <tr>\n",
              "      <th>5374</th>\n",
              "      <td>5374</td>\n",
              "      <td>o4474</td>\n",
              "      <td>0.000000</td>\n",
              "      <td>0.000000</td>\n",
              "      <td>0.000000</td>\n",
              "      <td>0.000000</td>\n",
              "      <td>0.000000</td>\n",
              "      <td>0.000000</td>\n",
              "      <td>0.0</td>\n",
              "      <td>0.000000</td>\n",
              "      <td>TRABAJADORES MINERA</td>\n",
              "      <td>0</td>\n",
              "      <td>0.000146</td>\n",
              "      <td>1.000092</td>\n",
              "    </tr>\n",
              "  </tbody>\n",
              "</table>\n",
              "<p>10748 rows × 14 columns</p>\n",
              "</div>"
            ],
            "text/plain": [
              "       Unnamed: 0 organization          p11  ...  degree  rich_club  rich_club_norm\n",
              "10707       10707          o67  4954.906433  ...     450        NaN             NaN\n",
              "10677       10677          o96  3032.138393  ...     440   0.000000        0.000000\n",
              "10700       10700          o79  4244.522609  ...     370   0.333333        0.031931\n",
              "10704       10704         o263  9278.374245  ...     244   0.500000        0.059763\n",
              "10721       10721          o84   432.598592  ...     118   0.600000        0.096344\n",
              "...           ...          ...          ...  ...     ...        ...             ...\n",
              "4185         4185        o4438     0.000000  ...       0   0.000146        1.000092\n",
              "4186         4186        o5499     0.000000  ...       0   0.000146        1.000092\n",
              "4187         4187        o4738     0.000000  ...       0   0.000146        1.000092\n",
              "4188         4188        o9370     0.000000  ...       0   0.000146        1.000092\n",
              "5374         5374        o4474     0.000000  ...       0   0.000146        1.000092\n",
              "\n",
              "[10748 rows x 14 columns]"
            ]
          },
          "metadata": {},
          "execution_count": 4
        }
      ]
    },
    {
      "cell_type": "code",
      "metadata": {
        "id": "03NB07PYDXFg"
      },
      "source": [
        "degrees_gt = df_rc_quality_gt[\"degree\"].tolist()\n",
        "richclub_gt = df_rc_quality_gt[\"rich_club_norm\"].tolist()\n",
        "\n",
        "degrees_gcp = df_rc_quality_gcp[\"degree\"].tolist()\n",
        "richclub_gcp = df_rc_quality_gcp[\"rich_club_norm\"].tolist()\n",
        "\n",
        "degrees_gfilt = df_rc_quality_gfilt[\"degree\"].tolist()\n",
        "richclub_gfilt = df_rc_quality_gfilt[\"rich_club_norm\"].tolist()"
      ],
      "execution_count": null,
      "outputs": []
    },
    {
      "cell_type": "code",
      "metadata": {
        "colab": {
          "base_uri": "https://localhost:8080/",
          "height": 625
        },
        "id": "F_A9j1iTCj6d",
        "outputId": "51c09767-c111-49fa-86a3-24f1a36af5c4"
      },
      "source": [
        "import numpy as np\n",
        "np.random.seed(42)\n",
        "from scipy.stats import binned_statistic\n",
        "import matplotlib.pyplot as plt\n",
        "\n",
        "fig, ax = plt.subplots(figsize=(10,10))\n",
        "ax.scatter(degrees_gt,richclub_gt, s=10, color='purple',label='rich club GT')\n",
        "ax.scatter(degrees_gcp,richclub_gcp, s=10, color='orange',label='rich club GCP')\n",
        "ax.scatter(degrees_gfilt,richclub_gfilt, s=10, color='red',label='rich club GFILT')\n",
        "\n",
        "ax.axhline(y=1, color='g', linestyle='--',lw=1)\n",
        "\n",
        "ax.set_yscale(\"log\")\n",
        "ax.set_xscale(\"log\")\n",
        "plt.title(\"Rich Club Coeficient (Log Log)\")\n",
        "plt.xlabel(\"Grado (Log)\")\n",
        "plt.ylabel(\"Rich Club (Log)\")\n",
        "plt.legend(bbox_to_anchor=(0.1,0.3), loc=\"center\", borderaxespad=1)\n",
        "\n",
        "plt.ylim(bottom=0.01, top=2)\n",
        "plt.xlim(0.9, 400)\n",
        "\n",
        "plt.show()"
      ],
      "execution_count": null,
      "outputs": [
        {
          "output_type": "display_data",
          "data": {
            "image/png": "[encoded data removed]",
            "text/plain": [
              "<Figure size 720x720 with 1 Axes>"
            ]
          },
          "metadata": {
            "needs_background": "light"
          }
        }
      ]
    },
    {
      "cell_type": "code",
      "metadata": {
        "colab": {
          "base_uri": "https://localhost:8080/",
          "height": 625
        },
        "id": "bRWLt86wLXgL",
        "outputId": "82d6aa1d-d419-4654-a6d4-e417b1fb292c"
      },
      "source": [
        "import numpy as np\n",
        "np.random.seed(42)\n",
        "from scipy.stats import binned_statistic\n",
        "import matplotlib.pyplot as plt\n",
        "\n",
        "fig, ax = plt.subplots(figsize=(10,10))\n",
        "ax.scatter(degrees_gt,richclub_gt, s=10, color='purple',label='rich club GT')\n",
        "\n",
        "ax.axhline(y=1, color='g', linestyle='--',lw=1)\n",
        "\n",
        "ax.set_yscale(\"log\")\n",
        "ax.set_xscale(\"log\")\n",
        "plt.title(\"Rich Club Coeficient (Log Log)\")\n",
        "plt.xlabel(\"Grado (Log)\")\n",
        "plt.ylabel(\"Rich Club (Log)\")\n",
        "plt.legend(bbox_to_anchor=(0.1,0.3), loc=\"center\", borderaxespad=1)\n",
        "\n",
        "plt.ylim(bottom=0.01, top=2)\n",
        "plt.xlim(0.9, 400)\n",
        "\n",
        "plt.show()"
      ],
      "execution_count": null,
      "outputs": [
        {
          "output_type": "display_data",
          "data": {
            "image/png": "[encoded data removed]",
            "text/plain": [
              "<Figure size 720x720 with 1 Axes>"
            ]
          },
          "metadata": {
            "needs_background": "light"
          }
        }
      ]
    },
    {
      "cell_type": "markdown",
      "metadata": {
        "id": "Y_UwA5z5Jn9G"
      },
      "source": [
        "<h3>Agrupaciòn por medio de groupby, uso de mean en GT</h3\n",
        "\n",
        "\n"
      ]
    },
    {
      "cell_type": "code",
      "metadata": {
        "id": "H1-unFcEJndo"
      },
      "source": [
        "df_rc_quality_gt = df_rc_quality_gt.drop(columns='Unnamed: 0')\n",
        "df_rc_quality_gcp = df_rc_quality_gcp.drop(columns='Unnamed: 0')\n",
        "df_rc_quality_gfilt = df_rc_quality_gfilt.drop(columns='Unnamed: 0')"
      ],
      "execution_count": null,
      "outputs": []
    },
    {
      "cell_type": "code",
      "metadata": {
        "id": "VuWHHSHLEC6f",
        "colab": {
          "base_uri": "https://localhost:8080/",
          "height": 203
        },
        "outputId": "17432f41-fbd5-4974-b41e-0599ff2eecae"
      },
      "source": [
        "df_rc_quality_gt.head()"
      ],
      "execution_count": null,
      "outputs": [
        {
          "output_type": "execute_result",
          "data": {
            "text/html": [
              "<div>\n",
              "<style scoped>\n",
              "    .dataframe tbody tr th:only-of-type {\n",
              "        vertical-align: middle;\n",
              "    }\n",
              "\n",
              "    .dataframe tbody tr th {\n",
              "        vertical-align: top;\n",
              "    }\n",
              "\n",
              "    .dataframe thead th {\n",
              "        text-align: right;\n",
              "    }\n",
              "</style>\n",
              "<table border=\"1\" class=\"dataframe\">\n",
              "  <thead>\n",
              "    <tr style=\"text-align: right;\">\n",
              "      <th></th>\n",
              "      <th>organization</th>\n",
              "      <th>p11</th>\n",
              "      <th>p23</th>\n",
              "      <th>p26a</th>\n",
              "      <th>p26c</th>\n",
              "      <th>p26e</th>\n",
              "      <th>p28a</th>\n",
              "      <th>p28c</th>\n",
              "      <th>p28e</th>\n",
              "      <th>name</th>\n",
              "      <th>degree</th>\n",
              "      <th>rich_club</th>\n",
              "      <th>rich_club_norm</th>\n",
              "    </tr>\n",
              "  </thead>\n",
              "  <tbody>\n",
              "    <tr>\n",
              "      <th>0</th>\n",
              "      <td>o7003</td>\n",
              "      <td>0.0</td>\n",
              "      <td>0.0</td>\n",
              "      <td>0.0</td>\n",
              "      <td>0.0</td>\n",
              "      <td>0.0</td>\n",
              "      <td>0.0</td>\n",
              "      <td>0.0</td>\n",
              "      <td>0.0</td>\n",
              "      <td>A.S.S.</td>\n",
              "      <td>4</td>\n",
              "      <td>0.003884</td>\n",
              "      <td>0.974938</td>\n",
              "    </tr>\n",
              "    <tr>\n",
              "      <th>1</th>\n",
              "      <td>o6382</td>\n",
              "      <td>2000.0</td>\n",
              "      <td>0.0</td>\n",
              "      <td>0.0</td>\n",
              "      <td>0.0</td>\n",
              "      <td>0.0</td>\n",
              "      <td>0.0</td>\n",
              "      <td>0.0</td>\n",
              "      <td>0.0</td>\n",
              "      <td>ACADEMIA NACIONAL DE LA LENGUA MAPUCHE</td>\n",
              "      <td>4</td>\n",
              "      <td>0.003884</td>\n",
              "      <td>0.974938</td>\n",
              "    </tr>\n",
              "    <tr>\n",
              "      <th>2</th>\n",
              "      <td>o3984</td>\n",
              "      <td>100.0</td>\n",
              "      <td>0.0</td>\n",
              "      <td>0.0</td>\n",
              "      <td>0.0</td>\n",
              "      <td>0.0</td>\n",
              "      <td>0.0</td>\n",
              "      <td>0.0</td>\n",
              "      <td>0.0</td>\n",
              "      <td>ACCIÓN FEMINISTA FLUOR</td>\n",
              "      <td>4</td>\n",
              "      <td>0.003884</td>\n",
              "      <td>0.974938</td>\n",
              "    </tr>\n",
              "    <tr>\n",
              "      <th>3</th>\n",
              "      <td>o6232</td>\n",
              "      <td>10.0</td>\n",
              "      <td>0.0</td>\n",
              "      <td>0.0</td>\n",
              "      <td>0.0</td>\n",
              "      <td>0.0</td>\n",
              "      <td>0.0</td>\n",
              "      <td>0.0</td>\n",
              "      <td>0.0</td>\n",
              "      <td>AFDD - TALCA</td>\n",
              "      <td>4</td>\n",
              "      <td>0.003884</td>\n",
              "      <td>0.974938</td>\n",
              "    </tr>\n",
              "    <tr>\n",
              "      <th>4</th>\n",
              "      <td>o489</td>\n",
              "      <td>0.0</td>\n",
              "      <td>0.0</td>\n",
              "      <td>0.0</td>\n",
              "      <td>0.0</td>\n",
              "      <td>0.0</td>\n",
              "      <td>0.0</td>\n",
              "      <td>0.0</td>\n",
              "      <td>0.0</td>\n",
              "      <td>AFUCOM</td>\n",
              "      <td>4</td>\n",
              "      <td>0.003884</td>\n",
              "      <td>0.974938</td>\n",
              "    </tr>\n",
              "  </tbody>\n",
              "</table>\n",
              "</div>"
            ],
            "text/plain": [
              "  organization     p11  p23  ...  degree  rich_club  rich_club_norm\n",
              "0        o7003     0.0  0.0  ...       4   0.003884        0.974938\n",
              "1        o6382  2000.0  0.0  ...       4   0.003884        0.974938\n",
              "2        o3984   100.0  0.0  ...       4   0.003884        0.974938\n",
              "3        o6232    10.0  0.0  ...       4   0.003884        0.974938\n",
              "4         o489     0.0  0.0  ...       4   0.003884        0.974938\n",
              "\n",
              "[5 rows x 13 columns]"
            ]
          },
          "metadata": {},
          "execution_count": 9
        }
      ]
    },
    {
      "cell_type": "code",
      "metadata": {
        "id": "ZkELIRP1KFsh"
      },
      "source": [
        "df_rc_quality_gt_grouped1 = df_rc_quality_gt.groupby('degree').mean()\n",
        "df_rc_quality_gcp_grouped1 = df_rc_quality_gcp.groupby('degree').mean()\n",
        "df_rc_quality_gfilt_grouped1 = df_rc_quality_gfilt.groupby('degree').mean()"
      ],
      "execution_count": null,
      "outputs": []
    },
    {
      "cell_type": "code",
      "metadata": {
        "id": "VYuCYPxFNUnz"
      },
      "source": [
        "degrees_gt_grouped1 = df_rc_quality_gt_grouped1.index.tolist()\n",
        "rc_gt_grouped1 = df_rc_quality_gt_grouped1['rich_club_norm'].tolist()\n",
        "size_gt_grouped1_p11 = df_rc_quality_gt_grouped1['p11'].tolist()\n",
        "size_gt_grouped1_p23 = df_rc_quality_gt_grouped1['p23'].tolist()\n",
        "size_gt_grouped1_p26a = df_rc_quality_gt_grouped1['p26a'].tolist()\n",
        "size_gt_grouped1_p26c = df_rc_quality_gt_grouped1['p26c'].tolist()\n",
        "size_gt_grouped1_p26e = df_rc_quality_gt_grouped1['p26e'].tolist()\n",
        "size_gt_grouped1_p28a = df_rc_quality_gt_grouped1['p28a'].tolist()\n",
        "size_gt_grouped1_p28c = df_rc_quality_gt_grouped1['p28c'].tolist()\n",
        "size_gt_grouped1_p28e = df_rc_quality_gt_grouped1['p28e'].tolist()\n",
        "\n",
        "degrees_gcp_grouped1 = df_rc_quality_gcp_grouped1.index.tolist()\n",
        "rc_gcp_grouped1 = df_rc_quality_gcp_grouped1['rich_club_norm'].tolist()\n",
        "size_gcp_grouped1_p11 = df_rc_quality_gcp_grouped1['p11'].tolist()\n",
        "size_gcp_grouped1_p23 = df_rc_quality_gcp_grouped1['p23'].tolist()\n",
        "size_gcp_grouped1_p26a = df_rc_quality_gcp_grouped1['p26a'].tolist()\n",
        "size_gcp_grouped1_p26c = df_rc_quality_gcp_grouped1['p26c'].tolist()\n",
        "size_gcp_grouped1_p26e = df_rc_quality_gcp_grouped1['p26e'].tolist()\n",
        "size_gcp_grouped1_p28a = df_rc_quality_gcp_grouped1['p28a'].tolist()\n",
        "size_gcp_grouped1_p28c = df_rc_quality_gcp_grouped1['p28c'].tolist()\n",
        "size_gcp_grouped1_p28e = df_rc_quality_gcp_grouped1['p28e'].tolist()\n",
        "\n",
        "degrees_gfilt_grouped1 = df_rc_quality_gfilt_grouped1.index.tolist()\n",
        "rc_gfilt_grouped1 = df_rc_quality_gfilt_grouped1['rich_club_norm'].tolist()\n",
        "size_gfilt_grouped1_p11 = df_rc_quality_gfilt_grouped1['p11'].tolist()\n",
        "size_gfilt_grouped1_p23 = df_rc_quality_gfilt_grouped1['p23'].tolist()\n",
        "size_gfilt_grouped1_p26a = df_rc_quality_gfilt_grouped1['p26a'].tolist()\n",
        "size_gfilt_grouped1_p26c = df_rc_quality_gfilt_grouped1['p26c'].tolist()\n",
        "size_gfilt_grouped1_p26e = df_rc_quality_gfilt_grouped1['p26e'].tolist()\n",
        "size_gfilt_grouped1_p28a = df_rc_quality_gfilt_grouped1['p28a'].tolist()\n",
        "size_gfilt_grouped1_p28c = df_rc_quality_gfilt_grouped1['p28c'].tolist()\n",
        "size_gfilt_grouped1_p28e = df_rc_quality_gfilt_grouped1['p28e'].tolist()\n"
      ],
      "execution_count": null,
      "outputs": []
    },
    {
      "cell_type": "code",
      "metadata": {
        "colab": {
          "base_uri": "https://localhost:8080/",
          "height": 625
        },
        "id": "BTHaWUMaKKht",
        "outputId": "d9a08203-742e-4667-aaae-4428ffdc753a"
      },
      "source": [
        "import numpy as np\n",
        "np.random.seed(42)\n",
        "from scipy.stats import binned_statistic\n",
        "import matplotlib.pyplot as plt\n",
        "\n",
        "fig, ax = plt.subplots(figsize=(10,10))\n",
        "scatter1 = ax.scatter(degrees_gt_grouped1,rc_gt_grouped1, s=np.array(size_gt_grouped1_p11)/100, color='purple',label='rich club GT')\n",
        "ax.scatter(degrees_gcp_grouped1,rc_gcp_grouped1, s=np.array(size_gcp_grouped1_p11)/100, color='orange',label='rich club GCP')\n",
        "ax.scatter(degrees_gfilt_grouped1,rc_gfilt_grouped1, s=np.array(size_gfilt_grouped1_p11)/100, color='red',label='rich club GFILT')\n",
        "ax.axhline(y=1, color='g', linestyle='--',lw=1)\n",
        "\n",
        "ax.set_yscale(\"log\")\n",
        "ax.set_xscale(\"log\")\n",
        "\n",
        "handles, labels = scatter1.legend_elements(prop=\"sizes\", alpha=0.7, func = lambda x: 100*x, color='purple')\n",
        "\n",
        "plt.title(\"Rich Club & p11 (Log Log)\")\n",
        "plt.xlabel(\"Grado (Log)\")\n",
        "plt.ylabel(\"Rich Club (Log)\")\n",
        "legend_color = plt.legend(bbox_to_anchor=(0.1,0.3), loc=\"center\", borderaxespad=1)\n",
        "plt.legend(handles, labels, loc=\"upper right\", title=\"Sizes\")\n",
        "plt.ylim(bottom=0.01, top=2)\n",
        "plt.xlim(0.9, 400)\n",
        "\n",
        "plt.gca().add_artist(legend_color)\n",
        "plt.show()"
      ],
      "execution_count": 149,
      "outputs": [
        {
          "output_type": "display_data",
          "data": {
            "image/png": "[encoded data removed]",
            "text/plain": [
              "<Figure size 720x720 with 1 Axes>"
            ]
          },
          "metadata": {
            "needs_background": "light"
          }
        }
      ]
    },
    {
      "cell_type": "code",
      "metadata": {
        "colab": {
          "base_uri": "https://localhost:8080/"
        },
        "id": "FFnZQVaBUr4k",
        "outputId": "109afba3-e6a1-43cc-f49e-e3bb441c33c4"
      },
      "source": [
        "from scipy.stats import pearsonr, spearmanr\n",
        "\n",
        "coef_pearson = pearsonr(degrees_gt_grouped1, size_gt_grouped1_p11)[0]\n",
        "\n",
        "print(f'El coef. de correlaciòn es de: {coef_pearson}')"
      ],
      "execution_count": null,
      "outputs": [
        {
          "output_type": "stream",
          "name": "stdout",
          "text": [
            "El coef. de correlaciòn es de: 0.1397106152814219\n"
          ]
        }
      ]
    },
    {
      "cell_type": "code",
      "metadata": {
        "colab": {
          "base_uri": "https://localhost:8080/",
          "height": 625
        },
        "id": "O_oejgSkNrzY",
        "outputId": "ecc6f50a-4800-4e08-dcca-d8ca3832d9d1"
      },
      "source": [
        "import numpy as np\n",
        "np.random.seed(42)\n",
        "from scipy.stats import binned_statistic\n",
        "import matplotlib.pyplot as plt\n",
        "\n",
        "fig, ax = plt.subplots(figsize=(10,10))\n",
        "scatter1 = ax.scatter(degrees_gt_grouped1,rc_gt_grouped1, s=10*np.array(size_gt_grouped1_p23), color='purple',label='rich club GT')\n",
        "ax.scatter(degrees_gcp_grouped1,rc_gcp_grouped1, s=10*np.array(size_gcp_grouped1_p23), color='orange',label='rich club GCP')\n",
        "ax.scatter(degrees_gfilt_grouped1,rc_gfilt_grouped1, s=10*np.array(size_gfilt_grouped1_p23), color='red',label='rich club GFILT')\n",
        "ax.axhline(y=1, color='g', linestyle='--',lw=1)\n",
        "\n",
        "ax.set_yscale(\"log\")\n",
        "ax.set_xscale(\"log\")\n",
        "\n",
        "handles, labels = scatter1.legend_elements(prop=\"sizes\", alpha=0.7, func = lambda x: x/10, color='purple')\n",
        "\n",
        "plt.title(\"Rich Club & p23 (Log Log)\")\n",
        "plt.xlabel(\"Grado (Log)\")\n",
        "plt.ylabel(\"Rich Club (Log)\")\n",
        "legend_color = plt.legend(bbox_to_anchor=(0.1,0.3), loc=\"center\", borderaxespad=1)\n",
        "plt.legend(handles, labels, loc=\"upper right\", title=\"Sizes\")\n",
        "plt.ylim(bottom=0.01, top=2)\n",
        "plt.xlim(0.9, 400)\n",
        "\n",
        "plt.gca().add_artist(legend_color)\n",
        "plt.show()"
      ],
      "execution_count": 150,
      "outputs": [
        {
          "output_type": "display_data",
          "data": {
            "image/png": "[encoded data removed]",
            "text/plain": [
              "<Figure size 720x720 with 1 Axes>"
            ]
          },
          "metadata": {
            "needs_background": "light"
          }
        }
      ]
    },
    {
      "cell_type": "code",
      "metadata": {
        "colab": {
          "base_uri": "https://localhost:8080/"
        },
        "id": "SpdwOBcWVErZ",
        "outputId": "7d06ad1a-57d3-4f2a-b522-b60c50a7bb85"
      },
      "source": [
        "from scipy.stats import pearsonr, spearmanr\n",
        "\n",
        "coef_pearson = pearsonr(rc_gt_grouped1[:-1], size_gt_grouped1_p23[:-1])[0]\n",
        "\n",
        "print(f'El coef. de correlaciòn es de: {coef_pearson}')"
      ],
      "execution_count": null,
      "outputs": [
        {
          "output_type": "stream",
          "name": "stdout",
          "text": [
            "El coef. de correlaciòn es de: -0.32062801844365246\n"
          ]
        }
      ]
    },
    {
      "cell_type": "code",
      "metadata": {
        "colab": {
          "base_uri": "https://localhost:8080/",
          "height": 625
        },
        "id": "4KGm5FMkQFtr",
        "outputId": "0e2f5925-7ae0-4507-d1f9-71f682121550"
      },
      "source": [
        "import numpy as np\n",
        "np.random.seed(42)\n",
        "from scipy.stats import binned_statistic\n",
        "import matplotlib.pyplot as plt\n",
        "\n",
        "fig, ax = plt.subplots(figsize=(10,10))\n",
        "scatter1 = ax.scatter(degrees_gt_grouped1,rc_gt_grouped1, s=10000*np.array(size_gt_grouped1_p23)/np.array(size_gt_grouped1_p11), color='purple',label='rich club GT')\n",
        "ax.scatter(degrees_gcp_grouped1,rc_gcp_grouped1, s=10000*np.array(size_gcp_grouped1_p23)/np.array(size_gcp_grouped1_p11), color='orange',label='rich club GCP')\n",
        "ax.scatter(degrees_gfilt_grouped1,rc_gfilt_grouped1, s=10000*np.array(size_gfilt_grouped1_p23)/np.array(size_gfilt_grouped1_p11), color='red',label='rich club GFILT')\n",
        "ax.axhline(y=1, color='g', linestyle='--',lw=1)\n",
        "\n",
        "ax.set_yscale(\"log\")\n",
        "ax.set_xscale(\"log\")\n",
        "\n",
        "handles, labels = scatter1.legend_elements(prop=\"sizes\", alpha=0.7, func = lambda x: x/10000, color='purple')\n",
        "\n",
        "plt.title(\"Rich Club & p23/p11 (Log Log)\")\n",
        "plt.xlabel(\"Grado (Log)\")\n",
        "plt.ylabel(\"Rich Club (Log)\")\n",
        "legend_color = plt.legend(bbox_to_anchor=(0.1,0.3), loc=\"center\", borderaxespad=1)\n",
        "plt.legend(handles, labels, loc=\"upper right\", title=\"Sizes\")\n",
        "plt.ylim(bottom=0.01, top=2)\n",
        "plt.xlim(0.9, 400)\n",
        "\n",
        "plt.gca().add_artist(legend_color)\n",
        "plt.show()"
      ],
      "execution_count": 151,
      "outputs": [
        {
          "output_type": "display_data",
          "data": {
            "image/png": "[encoded data removed]",
            "text/plain": [
              "<Figure size 720x720 with 1 Axes>"
            ]
          },
          "metadata": {
            "needs_background": "light"
          }
        }
      ]
    },
    {
      "cell_type": "code",
      "metadata": {
        "id": "N5-orOzRTkrh"
      },
      "source": [
        "size_gt_grouped1_p26 = np.array(size_gt_grouped1_p26a) + np.array(size_gt_grouped1_p26c) + np.array(size_gt_grouped1_p26e)\n",
        "size_gcp_grouped1_p26 = np.array(size_gcp_grouped1_p26a) + np.array(size_gcp_grouped1_p26c) + np.array(size_gcp_grouped1_p26e)\n",
        "size_gfilt_grouped1_p26 = np.array(size_gfilt_grouped1_p26a) + np.array(size_gfilt_grouped1_p26c) + np.array(size_gfilt_grouped1_p26e)"
      ],
      "execution_count": null,
      "outputs": []
    },
    {
      "cell_type": "code",
      "metadata": {
        "colab": {
          "base_uri": "https://localhost:8080/",
          "height": 625
        },
        "id": "q5cHJqSORAhc",
        "outputId": "ecd4c4d2-e887-4691-a48f-26d3a6ab7f5d"
      },
      "source": [
        "import numpy as np\n",
        "np.random.seed(42)\n",
        "from scipy.stats import binned_statistic\n",
        "import matplotlib.pyplot as plt\n",
        "\n",
        "fig, ax = plt.subplots(figsize=(10,10))\n",
        "scatter1 = ax.scatter(degrees_gt_grouped1,rc_gt_grouped1, s=50*np.array(size_gt_grouped1_p26), color='purple',label='rich club GT')\n",
        "ax.scatter(degrees_gcp_grouped1,rc_gcp_grouped1, s=50*np.array(size_gcp_grouped1_p26), color='orange',label='rich club GCP')\n",
        "ax.scatter(degrees_gfilt_grouped1,rc_gfilt_grouped1, s=50*np.array(size_gfilt_grouped1_p26), color='red',label='rich club GFILT')\n",
        "ax.axhline(y=1, color='g', linestyle='--',lw=1)\n",
        "\n",
        "ax.set_yscale(\"log\")\n",
        "ax.set_xscale(\"log\")\n",
        "\n",
        "handles, labels = scatter1.legend_elements(prop=\"sizes\", alpha=0.7, func = lambda x: x/50, color='purple')\n",
        "\n",
        "plt.title(\"Rich Club & p26 (Log Log)\")\n",
        "plt.xlabel(\"Grado (Log)\")\n",
        "plt.ylabel(\"Rich Club (Log)\")\n",
        "legend_color = plt.legend(bbox_to_anchor=(0.1,0.3), loc=\"center\", borderaxespad=1)\n",
        "plt.legend(handles, labels, loc=\"upper right\", title=\"Sizes\")\n",
        "plt.ylim(bottom=0.01, top=2)\n",
        "plt.xlim(0.9, 400)\n",
        "\n",
        "plt.gca().add_artist(legend_color)\n",
        "plt.show()"
      ],
      "execution_count": 152,
      "outputs": [
        {
          "output_type": "display_data",
          "data": {
            "image/png": "[encoded data removed]",
            "text/plain": [
              "<Figure size 720x720 with 1 Axes>"
            ]
          },
          "metadata": {
            "needs_background": "light"
          }
        }
      ]
    },
    {
      "cell_type": "code",
      "metadata": {
        "colab": {
          "base_uri": "https://localhost:8080/"
        },
        "id": "2ZcS-IRlS8aJ",
        "outputId": "9ee154fb-167b-4e7c-fdae-6fd5ab75acb7"
      },
      "source": [
        "from scipy.stats import pearsonr, spearmanr\n",
        "\n",
        "coef_pearson = pearsonr(rc_gt_grouped1[:-1], size_gt_grouped1_p26c[:-1])[0]\n",
        "print(f'El coef. de correlaciòn es de: {coef_pearson}')"
      ],
      "execution_count": null,
      "outputs": [
        {
          "output_type": "stream",
          "name": "stdout",
          "text": [
            "El coef. de correlaciòn es de: -0.3110200483237459\n"
          ]
        }
      ]
    },
    {
      "cell_type": "code",
      "metadata": {
        "id": "pOWcSY_bVNQf"
      },
      "source": [
        "size_gt_grouped1_p28 = np.array(size_gt_grouped1_p28a) + np.array(size_gt_grouped1_p28c) + np.array(size_gt_grouped1_p28e)\n",
        "size_gcp_grouped1_p28 = np.array(size_gcp_grouped1_p28a) + np.array(size_gcp_grouped1_p28c) + np.array(size_gcp_grouped1_p28e)\n",
        "size_gfilt_grouped1_p28 = np.array(size_gfilt_grouped1_p28a) + np.array(size_gfilt_grouped1_p28c) + np.array(size_gfilt_grouped1_p28e)"
      ],
      "execution_count": null,
      "outputs": []
    },
    {
      "cell_type": "code",
      "metadata": {
        "colab": {
          "base_uri": "https://localhost:8080/",
          "height": 625
        },
        "id": "JOSu0IA2WnIR",
        "outputId": "2caeaa13-cb93-4601-bb72-daa5db66e2f9"
      },
      "source": [
        "import numpy as np\n",
        "np.random.seed(42)\n",
        "from scipy.stats import binned_statistic\n",
        "import matplotlib.pyplot as plt\n",
        "\n",
        "fig, ax = plt.subplots(figsize=(10,10))\n",
        "scatter1 = ax.scatter(degrees_gt_grouped1,rc_gt_grouped1, s=2000*np.array(size_gt_grouped1_p28), color='purple',label='rich club GT')\n",
        "ax.scatter(degrees_gcp_grouped1,rc_gcp_grouped1, s=2000*np.array(size_gcp_grouped1_p28), color='orange',label='rich club GCP')\n",
        "ax.scatter(degrees_gfilt_grouped1,rc_gfilt_grouped1, s=2000*np.array(size_gfilt_grouped1_p28), color='red',label='rich club GFILT')\n",
        "ax.axhline(y=1, color='g', linestyle='--',lw=1)\n",
        "\n",
        "handles, labels = scatter1.legend_elements(prop=\"sizes\", alpha=0.7, func = lambda x: x/2000, color='purple')\n",
        "\n",
        "ax.set_yscale(\"log\")\n",
        "ax.set_xscale(\"log\")\n",
        "plt.title(\"Rich Club & p28 (Log Log)\")\n",
        "plt.xlabel(\"Grado (Log)\")\n",
        "plt.ylabel(\"Rich Club (Log)\")\n",
        "legend_color = plt.legend(bbox_to_anchor=(0.1,0.3), loc=\"center\", borderaxespad=1)\n",
        "plt.legend(handles, labels, loc=\"upper right\", title=\"Sizes\")\n",
        "plt.ylim(bottom=0.01, top=2)\n",
        "plt.xlim(0.9, 400)\n",
        "\n",
        "plt.gca().add_artist(legend_color)\n",
        "plt.show()"
      ],
      "execution_count": 153,
      "outputs": [
        {
          "output_type": "display_data",
          "data": {
            "image/png": "[encoded data removed]",
            "text/plain": [
              "<Figure size 720x720 with 1 Axes>"
            ]
          },
          "metadata": {
            "needs_background": "light"
          }
        }
      ]
    },
    {
      "cell_type": "markdown",
      "metadata": {
        "id": "-WswlqJZhoBu"
      },
      "source": [
        "<h3>Generaciòn del grafo y bùsqueda del neighboorhood</h3>"
      ]
    },
    {
      "cell_type": "code",
      "metadata": {
        "id": "gP77NDscXvKI"
      },
      "source": [
        "df_mainf = pd.read_excel('movilizaciones_2009_2019.xlsx')"
      ],
      "execution_count": null,
      "outputs": []
    },
    {
      "cell_type": "code",
      "metadata": {
        "id": "GIsp10weo2lo"
      },
      "source": [
        "import networkx as nx\n",
        "from networkx.algorithms import bipartite, average_clustering"
      ],
      "execution_count": null,
      "outputs": []
    },
    {
      "cell_type": "code",
      "metadata": {
        "id": "N9PyrQgro5IB"
      },
      "source": [
        "B = nx.Graph()"
      ],
      "execution_count": null,
      "outputs": []
    },
    {
      "cell_type": "code",
      "metadata": {
        "id": "1Mic1-rko72N"
      },
      "source": [
        "top_nodes = [f\"o{x}\" for x in range(10748)]\n",
        "bottom_nodes = [x for x in range(23398)]"
      ],
      "execution_count": null,
      "outputs": []
    },
    {
      "cell_type": "code",
      "metadata": {
        "id": "mzptO42zq84M"
      },
      "source": [
        "B.add_nodes_from(top_nodes, bipartite=0)\n",
        "B.add_nodes_from(bottom_nodes, bipartite=1)"
      ],
      "execution_count": null,
      "outputs": []
    },
    {
      "cell_type": "code",
      "metadata": {
        "id": "RSr1RyTlq-0T"
      },
      "source": [
        "func1 = lambda x: \"o\"+str(x)\n",
        "df_mainf['id_organizacion'] = df_mainf['id_organizacion'].apply(func1)\n",
        "relations = list(df_mainf[['id_organizacion','id_manifestacion']].apply(tuple, axis=1))\n",
        "B.add_edges_from(relations)"
      ],
      "execution_count": null,
      "outputs": []
    },
    {
      "cell_type": "code",
      "metadata": {
        "id": "c3imN_uKrBc1"
      },
      "source": [
        "G = bipartite.generic_weighted_projected_graph(B, top_nodes)"
      ],
      "execution_count": null,
      "outputs": []
    },
    {
      "cell_type": "code",
      "metadata": {
        "id": "y2vsM1Ihfx9E"
      },
      "source": [
        "Gcc = max(nx.connected_components(G), key=len)\n",
        "giant_C = G.subgraph(Gcc)"
      ],
      "execution_count": null,
      "outputs": []
    },
    {
      "cell_type": "code",
      "metadata": {
        "id": "Sb2xGlwArQG8"
      },
      "source": [
        "def fgh(x):\n",
        "  setunion = set()\n",
        "  for j in x:\n",
        "    setunion = setunion.union(set([s for s in G.neighbors(j)]))\n",
        "  return list(setunion)"
      ],
      "execution_count": null,
      "outputs": []
    },
    {
      "cell_type": "code",
      "metadata": {
        "id": "c-bwU8XEfjBC"
      },
      "source": [
        "def fgh_gcp(x):\n",
        "  setunion = set()\n",
        "  for j in x:\n",
        "    setunion = setunion.union(set([s for s in giant_C.neighbors(j)]))\n",
        "  return list(setunion)"
      ],
      "execution_count": null,
      "outputs": []
    },
    {
      "cell_type": "code",
      "metadata": {
        "id": "PrB36RHf4EWM"
      },
      "source": [
        "def fgh_gfilt(x):\n",
        "  setunion = set()\n",
        "  for j in x:\n",
        "    setunion = setunion.union(set([s for s in B_filtered.neighbors(j)]))\n",
        "  return list(setunion)"
      ],
      "execution_count": 130,
      "outputs": []
    },
    {
      "cell_type": "code",
      "metadata": {
        "id": "jjmaIFxjrYS2"
      },
      "source": [
        "df_rc_quality_gt_groupedneighboor = df_rc_quality_gt.groupby('degree')['organization'].apply(list).reset_index(name='groups')"
      ],
      "execution_count": null,
      "outputs": []
    },
    {
      "cell_type": "code",
      "metadata": {
        "id": "xe9F8nYPf7kP"
      },
      "source": [
        "df_rc_quality_gcp_groupedneighboor = df_rc_quality_gcp.groupby('degree')['organization'].apply(list).reset_index(name='groups')"
      ],
      "execution_count": null,
      "outputs": []
    },
    {
      "cell_type": "code",
      "metadata": {
        "id": "m3o8_F7q4aW3"
      },
      "source": [
        "df_rc_quality_gfilt_groupedneighboor = df_rc_quality_gfilt.groupby('degree')['organization'].apply(list).reset_index(name='groups')"
      ],
      "execution_count": 131,
      "outputs": []
    },
    {
      "cell_type": "code",
      "metadata": {
        "colab": {
          "base_uri": "https://localhost:8080/",
          "height": 484
        },
        "id": "UPMdThl2t0wm",
        "outputId": "e7100a5f-9d83-4574-9a50-11dec3592145"
      },
      "source": [
        "df_rc_quality_gt"
      ],
      "execution_count": null,
      "outputs": [
        {
          "output_type": "execute_result",
          "data": {
            "text/html": [
              "<div>\n",
              "<style scoped>\n",
              "    .dataframe tbody tr th:only-of-type {\n",
              "        vertical-align: middle;\n",
              "    }\n",
              "\n",
              "    .dataframe tbody tr th {\n",
              "        vertical-align: top;\n",
              "    }\n",
              "\n",
              "    .dataframe thead th {\n",
              "        text-align: right;\n",
              "    }\n",
              "</style>\n",
              "<table border=\"1\" class=\"dataframe\">\n",
              "  <thead>\n",
              "    <tr style=\"text-align: right;\">\n",
              "      <th></th>\n",
              "      <th>organization</th>\n",
              "      <th>p11</th>\n",
              "      <th>p23</th>\n",
              "      <th>p26a</th>\n",
              "      <th>p26c</th>\n",
              "      <th>p26e</th>\n",
              "      <th>p28a</th>\n",
              "      <th>p28c</th>\n",
              "      <th>p28e</th>\n",
              "      <th>name</th>\n",
              "      <th>degree</th>\n",
              "      <th>rich_club</th>\n",
              "      <th>rich_club_norm</th>\n",
              "    </tr>\n",
              "  </thead>\n",
              "  <tbody>\n",
              "    <tr>\n",
              "      <th>0</th>\n",
              "      <td>o7003</td>\n",
              "      <td>0.000000</td>\n",
              "      <td>0.000000</td>\n",
              "      <td>0.000000</td>\n",
              "      <td>0.000000</td>\n",
              "      <td>0.000000</td>\n",
              "      <td>0.000000</td>\n",
              "      <td>0.0</td>\n",
              "      <td>0.0</td>\n",
              "      <td>A.S.S.</td>\n",
              "      <td>4</td>\n",
              "      <td>0.003884</td>\n",
              "      <td>0.974938</td>\n",
              "    </tr>\n",
              "    <tr>\n",
              "      <th>1</th>\n",
              "      <td>o6382</td>\n",
              "      <td>2000.000000</td>\n",
              "      <td>0.000000</td>\n",
              "      <td>0.000000</td>\n",
              "      <td>0.000000</td>\n",
              "      <td>0.000000</td>\n",
              "      <td>0.000000</td>\n",
              "      <td>0.0</td>\n",
              "      <td>0.0</td>\n",
              "      <td>ACADEMIA NACIONAL DE LA LENGUA MAPUCHE</td>\n",
              "      <td>4</td>\n",
              "      <td>0.003884</td>\n",
              "      <td>0.974938</td>\n",
              "    </tr>\n",
              "    <tr>\n",
              "      <th>2</th>\n",
              "      <td>o3984</td>\n",
              "      <td>100.000000</td>\n",
              "      <td>0.000000</td>\n",
              "      <td>0.000000</td>\n",
              "      <td>0.000000</td>\n",
              "      <td>0.000000</td>\n",
              "      <td>0.000000</td>\n",
              "      <td>0.0</td>\n",
              "      <td>0.0</td>\n",
              "      <td>ACCIÓN FEMINISTA FLUOR</td>\n",
              "      <td>4</td>\n",
              "      <td>0.003884</td>\n",
              "      <td>0.974938</td>\n",
              "    </tr>\n",
              "    <tr>\n",
              "      <th>3</th>\n",
              "      <td>o6232</td>\n",
              "      <td>10.000000</td>\n",
              "      <td>0.000000</td>\n",
              "      <td>0.000000</td>\n",
              "      <td>0.000000</td>\n",
              "      <td>0.000000</td>\n",
              "      <td>0.000000</td>\n",
              "      <td>0.0</td>\n",
              "      <td>0.0</td>\n",
              "      <td>AFDD - TALCA</td>\n",
              "      <td>4</td>\n",
              "      <td>0.003884</td>\n",
              "      <td>0.974938</td>\n",
              "    </tr>\n",
              "    <tr>\n",
              "      <th>4</th>\n",
              "      <td>o489</td>\n",
              "      <td>0.000000</td>\n",
              "      <td>0.000000</td>\n",
              "      <td>0.000000</td>\n",
              "      <td>0.000000</td>\n",
              "      <td>0.000000</td>\n",
              "      <td>0.000000</td>\n",
              "      <td>0.0</td>\n",
              "      <td>0.0</td>\n",
              "      <td>AFUCOM</td>\n",
              "      <td>4</td>\n",
              "      <td>0.003884</td>\n",
              "      <td>0.974938</td>\n",
              "    </tr>\n",
              "    <tr>\n",
              "      <th>...</th>\n",
              "      <td>...</td>\n",
              "      <td>...</td>\n",
              "      <td>...</td>\n",
              "      <td>...</td>\n",
              "      <td>...</td>\n",
              "      <td>...</td>\n",
              "      <td>...</td>\n",
              "      <td>...</td>\n",
              "      <td>...</td>\n",
              "      <td>...</td>\n",
              "      <td>...</td>\n",
              "      <td>...</td>\n",
              "      <td>...</td>\n",
              "    </tr>\n",
              "    <tr>\n",
              "      <th>10743</th>\n",
              "      <td>o15</td>\n",
              "      <td>1458.525424</td>\n",
              "      <td>3.677966</td>\n",
              "      <td>0.118644</td>\n",
              "      <td>0.525424</td>\n",
              "      <td>0.203390</td>\n",
              "      <td>0.000000</td>\n",
              "      <td>0.0</td>\n",
              "      <td>0.0</td>\n",
              "      <td>PC</td>\n",
              "      <td>79</td>\n",
              "      <td>0.709091</td>\n",
              "      <td>0.307612</td>\n",
              "    </tr>\n",
              "    <tr>\n",
              "      <th>10744</th>\n",
              "      <td>o290</td>\n",
              "      <td>2469.800000</td>\n",
              "      <td>2.350000</td>\n",
              "      <td>0.050000</td>\n",
              "      <td>0.500000</td>\n",
              "      <td>0.000000</td>\n",
              "      <td>0.000000</td>\n",
              "      <td>0.0</td>\n",
              "      <td>0.0</td>\n",
              "      <td>PPD</td>\n",
              "      <td>33</td>\n",
              "      <td>0.452991</td>\n",
              "      <td>0.641657</td>\n",
              "    </tr>\n",
              "    <tr>\n",
              "      <th>10745</th>\n",
              "      <td>o215</td>\n",
              "      <td>2406.460526</td>\n",
              "      <td>5.302632</td>\n",
              "      <td>0.026316</td>\n",
              "      <td>0.328947</td>\n",
              "      <td>0.013158</td>\n",
              "      <td>0.013158</td>\n",
              "      <td>0.0</td>\n",
              "      <td>0.0</td>\n",
              "      <td>PROFESORES</td>\n",
              "      <td>50</td>\n",
              "      <td>0.647059</td>\n",
              "      <td>0.525672</td>\n",
              "    </tr>\n",
              "    <tr>\n",
              "      <th>10746</th>\n",
              "      <td>o198</td>\n",
              "      <td>629.181818</td>\n",
              "      <td>1.409091</td>\n",
              "      <td>0.000000</td>\n",
              "      <td>0.318182</td>\n",
              "      <td>0.113636</td>\n",
              "      <td>0.000000</td>\n",
              "      <td>0.0</td>\n",
              "      <td>0.0</td>\n",
              "      <td>PS</td>\n",
              "      <td>49</td>\n",
              "      <td>0.625731</td>\n",
              "      <td>0.545605</td>\n",
              "    </tr>\n",
              "    <tr>\n",
              "      <th>10747</th>\n",
              "      <td>o1425</td>\n",
              "      <td>1475.989011</td>\n",
              "      <td>2.347985</td>\n",
              "      <td>0.650183</td>\n",
              "      <td>0.300366</td>\n",
              "      <td>0.005495</td>\n",
              "      <td>0.014652</td>\n",
              "      <td>0.0</td>\n",
              "      <td>0.0</td>\n",
              "      <td>VECINOS</td>\n",
              "      <td>57</td>\n",
              "      <td>0.666666</td>\n",
              "      <td>0.464395</td>\n",
              "    </tr>\n",
              "  </tbody>\n",
              "</table>\n",
              "<p>10748 rows × 13 columns</p>\n",
              "</div>"
            ],
            "text/plain": [
              "      organization          p11       p23  ...  degree  rich_club  rich_club_norm\n",
              "0            o7003     0.000000  0.000000  ...       4   0.003884        0.974938\n",
              "1            o6382  2000.000000  0.000000  ...       4   0.003884        0.974938\n",
              "2            o3984   100.000000  0.000000  ...       4   0.003884        0.974938\n",
              "3            o6232    10.000000  0.000000  ...       4   0.003884        0.974938\n",
              "4             o489     0.000000  0.000000  ...       4   0.003884        0.974938\n",
              "...            ...          ...       ...  ...     ...        ...             ...\n",
              "10743          o15  1458.525424  3.677966  ...      79   0.709091        0.307612\n",
              "10744         o290  2469.800000  2.350000  ...      33   0.452991        0.641657\n",
              "10745         o215  2406.460526  5.302632  ...      50   0.647059        0.525672\n",
              "10746         o198   629.181818  1.409091  ...      49   0.625731        0.545605\n",
              "10747        o1425  1475.989011  2.347985  ...      57   0.666666        0.464395\n",
              "\n",
              "[10748 rows x 13 columns]"
            ]
          },
          "metadata": {},
          "execution_count": 50
        }
      ]
    },
    {
      "cell_type": "code",
      "metadata": {
        "id": "q1OXEoPosEyD"
      },
      "source": [
        "df_rc_quality_gt_groupedneighboor[\"neighboor\"] = df_rc_quality_gt_groupedneighboor[\"groups\"].apply(fgh)"
      ],
      "execution_count": null,
      "outputs": []
    },
    {
      "cell_type": "code",
      "metadata": {
        "id": "nIfFTXTUgEEE"
      },
      "source": [
        "df_rc_quality_gcp_groupedneighboor[\"neighboor\"] = df_rc_quality_gcp_groupedneighboor[\"groups\"].apply(fgh_gcp)"
      ],
      "execution_count": null,
      "outputs": []
    },
    {
      "cell_type": "code",
      "metadata": {
        "id": "4Sw1v1rU4gyU"
      },
      "source": [
        "df_rc_quality_gfilt_groupedneighboor[\"neighboor\"] = df_rc_quality_gfilt_groupedneighboor[\"groups\"].apply(fgh_gfilt)"
      ],
      "execution_count": 132,
      "outputs": []
    },
    {
      "cell_type": "code",
      "metadata": {
        "id": "fyGb9VT4tqXR"
      },
      "source": [
        "def mean_neighboor_gt(x, req_column):\n",
        "  return df_rc_quality_gt[df_rc_quality_gt['organization'].isin(x)][req_column].mean()"
      ],
      "execution_count": null,
      "outputs": []
    },
    {
      "cell_type": "code",
      "metadata": {
        "id": "vSlXi-bCgIe8"
      },
      "source": [
        "def mean_neighboor_gcp(x, req_column):\n",
        "  return df_rc_quality_gcp[df_rc_quality_gcp['organization'].isin(x)][req_column].mean()"
      ],
      "execution_count": null,
      "outputs": []
    },
    {
      "cell_type": "code",
      "metadata": {
        "id": "ZrME1FMx4nIK"
      },
      "source": [
        "def mean_neighboor_gfilt(x, req_column):\n",
        "  return df_rc_quality_gfilt[df_rc_quality_gfilt['organization'].isin(x)][req_column].mean()"
      ],
      "execution_count": 133,
      "outputs": []
    },
    {
      "cell_type": "code",
      "metadata": {
        "id": "Qz6YBSxTuUZ0"
      },
      "source": [
        "df_rc_quality_gt_groupedneighboor[\"mean_p11_neighboor_gt\"] = df_rc_quality_gt_groupedneighboor[\"neighboor\"].apply(lambda x: mean_neighboor_gt(x, \"p11\"))\n",
        "df_rc_quality_gt_groupedneighboor[\"mean_p23_neighboor_gt\"] = df_rc_quality_gt_groupedneighboor[\"neighboor\"].apply(lambda x: mean_neighboor_gt(x, \"p23\"))"
      ],
      "execution_count": null,
      "outputs": []
    },
    {
      "cell_type": "code",
      "metadata": {
        "id": "os_0aRXbgQMo"
      },
      "source": [
        "df_rc_quality_gcp_groupedneighboor[\"mean_p11_neighboor_gcp\"] = df_rc_quality_gcp_groupedneighboor[\"neighboor\"].apply(lambda x: mean_neighboor_gcp(x, \"p11\"))\n",
        "df_rc_quality_gcp_groupedneighboor[\"mean_p23_neighboor_gcp\"] = df_rc_quality_gcp_groupedneighboor[\"neighboor\"].apply(lambda x: mean_neighboor_gcp(x, \"p23\"))"
      ],
      "execution_count": null,
      "outputs": []
    },
    {
      "cell_type": "code",
      "metadata": {
        "id": "HN5tfWXP4wDV"
      },
      "source": [
        "df_rc_quality_gfilt_groupedneighboor[\"mean_p11_neighboor_gfilt\"] = df_rc_quality_gfilt_groupedneighboor[\"neighboor\"].apply(lambda x: mean_neighboor_gfilt(x, \"p11\"))\n",
        "df_rc_quality_gfilt_groupedneighboor[\"mean_p23_neighboor_gfilt\"] = df_rc_quality_gfilt_groupedneighboor[\"neighboor\"].apply(lambda x: mean_neighboor_gfilt(x, \"p23\"))"
      ],
      "execution_count": 134,
      "outputs": []
    },
    {
      "cell_type": "code",
      "metadata": {
        "colab": {
          "base_uri": "https://localhost:8080/",
          "height": 1000
        },
        "id": "0uOrCdJ6uHO_",
        "outputId": "525210ae-fb09-4fce-932e-063857092794"
      },
      "source": [
        "df_rc_quality_gt_groupedneighboor"
      ],
      "execution_count": null,
      "outputs": [
        {
          "output_type": "execute_result",
          "data": {
            "text/html": [
              "<div>\n",
              "<style scoped>\n",
              "    .dataframe tbody tr th:only-of-type {\n",
              "        vertical-align: middle;\n",
              "    }\n",
              "\n",
              "    .dataframe tbody tr th {\n",
              "        vertical-align: top;\n",
              "    }\n",
              "\n",
              "    .dataframe thead th {\n",
              "        text-align: right;\n",
              "    }\n",
              "</style>\n",
              "<table border=\"1\" class=\"dataframe\">\n",
              "  <thead>\n",
              "    <tr style=\"text-align: right;\">\n",
              "      <th></th>\n",
              "      <th>degree</th>\n",
              "      <th>groups</th>\n",
              "      <th>neighboor</th>\n",
              "      <th>mean_p11_neighboor_gt</th>\n",
              "      <th>mean_p23_neighboor_gt</th>\n",
              "      <th>mean_p26_neighboor_gt</th>\n",
              "      <th>mean_p28_neighboor_gt</th>\n",
              "    </tr>\n",
              "  </thead>\n",
              "  <tbody>\n",
              "    <tr>\n",
              "      <th>0</th>\n",
              "      <td>0</td>\n",
              "      <td>[o9060, o8499, o4300, o8502, o9285, o4764, o80...</td>\n",
              "      <td>[]</td>\n",
              "      <td>NaN</td>\n",
              "      <td>NaN</td>\n",
              "      <td>NaN</td>\n",
              "      <td>NaN</td>\n",
              "    </tr>\n",
              "    <tr>\n",
              "      <th>1</th>\n",
              "      <td>1</td>\n",
              "      <td>[o10653, o10618, o10398, o10054, o10501, o7835...</td>\n",
              "      <td>[o4796, o3976, o982, o6050, o5004, o4412, o441...</td>\n",
              "      <td>574.319652</td>\n",
              "      <td>0.830298</td>\n",
              "      <td>0.163960</td>\n",
              "      <td>0.000422</td>\n",
              "    </tr>\n",
              "    <tr>\n",
              "      <th>2</th>\n",
              "      <td>2</td>\n",
              "      <td>[o8296, o8508, o5216, o6473, o2309, o6793, o30...</td>\n",
              "      <td>[o3152, o3148, o3282, o1096, o9273, o9120, o16...</td>\n",
              "      <td>1700.730852</td>\n",
              "      <td>1.094862</td>\n",
              "      <td>0.247578</td>\n",
              "      <td>0.000321</td>\n",
              "    </tr>\n",
              "    <tr>\n",
              "      <th>3</th>\n",
              "      <td>3</td>\n",
              "      <td>[o7257, o5874, o8649, o3456, o7066, o1169, o10...</td>\n",
              "      <td>[o2017, o9463, o2648, o3523, o10603, o2840, o1...</td>\n",
              "      <td>2563.853747</td>\n",
              "      <td>1.069714</td>\n",
              "      <td>0.239085</td>\n",
              "      <td>0.002526</td>\n",
              "    </tr>\n",
              "    <tr>\n",
              "      <th>4</th>\n",
              "      <td>4</td>\n",
              "      <td>[o7003, o6382, o3984, o6232, o489, o4266, o885...</td>\n",
              "      <td>[o4678, o5524, o597, o9203, o7245, o5471, o101...</td>\n",
              "      <td>4914.719065</td>\n",
              "      <td>1.805986</td>\n",
              "      <td>0.153356</td>\n",
              "      <td>0.000597</td>\n",
              "    </tr>\n",
              "    <tr>\n",
              "      <th>5</th>\n",
              "      <td>5</td>\n",
              "      <td>[o3106, o4718, o6442, o10309, o3506, o4285, o8...</td>\n",
              "      <td>[o1640, o3148, o3282, o10144, o10091, o1660, o...</td>\n",
              "      <td>2762.057579</td>\n",
              "      <td>1.987311</td>\n",
              "      <td>0.132310</td>\n",
              "      <td>0.000261</td>\n",
              "    </tr>\n",
              "    <tr>\n",
              "      <th>6</th>\n",
              "      <td>6</td>\n",
              "      <td>[o2339, o8121, o10066, o659, o7232, o3174, o52...</td>\n",
              "      <td>[o10318, o3282, o5274, o1414, o8759, o10523, o...</td>\n",
              "      <td>2995.922940</td>\n",
              "      <td>3.892155</td>\n",
              "      <td>0.408770</td>\n",
              "      <td>0.000200</td>\n",
              "    </tr>\n",
              "    <tr>\n",
              "      <th>7</th>\n",
              "      <td>7</td>\n",
              "      <td>[o363, o1102, o4726, o8934, o3011, o5130, o886...</td>\n",
              "      <td>[o10318, o433, o5040, o1632, o139, o3088, o461...</td>\n",
              "      <td>3779.630735</td>\n",
              "      <td>2.160110</td>\n",
              "      <td>0.488747</td>\n",
              "      <td>0.000584</td>\n",
              "    </tr>\n",
              "    <tr>\n",
              "      <th>8</th>\n",
              "      <td>8</td>\n",
              "      <td>[o14, o70, o5941, o3970, o3222, o833, o589, o1...</td>\n",
              "      <td>[o7985, o7628, o1499, o5639, o10032, o10603, o...</td>\n",
              "      <td>2325.147844</td>\n",
              "      <td>2.748746</td>\n",
              "      <td>0.200303</td>\n",
              "      <td>0.001552</td>\n",
              "    </tr>\n",
              "    <tr>\n",
              "      <th>9</th>\n",
              "      <td>9</td>\n",
              "      <td>[o2700, o7106, o445, o4271, o345, o380, o7177,...</td>\n",
              "      <td>[o5126, o6287, o1485, o7108, o294, o4008, o894...</td>\n",
              "      <td>3288.868598</td>\n",
              "      <td>1.888569</td>\n",
              "      <td>0.124300</td>\n",
              "      <td>0.002823</td>\n",
              "    </tr>\n",
              "    <tr>\n",
              "      <th>10</th>\n",
              "      <td>10</td>\n",
              "      <td>[o431, o878, o152, o6432, o4898, o3461, o6401,...</td>\n",
              "      <td>[o2219, o6493, o10483, o7936, o554, o9110, o13...</td>\n",
              "      <td>5999.559080</td>\n",
              "      <td>2.469033</td>\n",
              "      <td>0.475588</td>\n",
              "      <td>0.000266</td>\n",
              "    </tr>\n",
              "    <tr>\n",
              "      <th>11</th>\n",
              "      <td>11</td>\n",
              "      <td>[o187, o153, o9207, o4142, o1174, o9472, o358,...</td>\n",
              "      <td>[o1640, o3030, o9873, o2640, o10513, o9206, o2...</td>\n",
              "      <td>2954.876825</td>\n",
              "      <td>5.542700</td>\n",
              "      <td>0.415502</td>\n",
              "      <td>0.000085</td>\n",
              "    </tr>\n",
              "    <tr>\n",
              "      <th>12</th>\n",
              "      <td>12</td>\n",
              "      <td>[o29, o7210, o4991, o861, o83, o10100, o899, o...</td>\n",
              "      <td>[o4069, o208, o5895, o10211, o5930, o1403, o10...</td>\n",
              "      <td>4419.247467</td>\n",
              "      <td>2.498093</td>\n",
              "      <td>0.402135</td>\n",
              "      <td>0.000213</td>\n",
              "    </tr>\n",
              "    <tr>\n",
              "      <th>13</th>\n",
              "      <td>13</td>\n",
              "      <td>[o1689, o432, o2950, o2495, o2010, o240, o9491...</td>\n",
              "      <td>[o10072, o9491, o6263, o4719, o2901, o3012, o7...</td>\n",
              "      <td>3232.613629</td>\n",
              "      <td>2.675967</td>\n",
              "      <td>0.427225</td>\n",
              "      <td>0.000316</td>\n",
              "    </tr>\n",
              "    <tr>\n",
              "      <th>14</th>\n",
              "      <td>14</td>\n",
              "      <td>[o325, o3916, o1572, o2828, o611, o2013, o2953...</td>\n",
              "      <td>[o3152, o862, o2017, o4584, o3609, o2840, o291...</td>\n",
              "      <td>4269.633711</td>\n",
              "      <td>2.224158</td>\n",
              "      <td>0.092120</td>\n",
              "      <td>0.001689</td>\n",
              "    </tr>\n",
              "    <tr>\n",
              "      <th>15</th>\n",
              "      <td>15</td>\n",
              "      <td>[o4347, o916, o1711, o7182, o2587, o2551, o153...</td>\n",
              "      <td>[o1145, o2241, o2561, o611, o2588, o10361, o79...</td>\n",
              "      <td>2755.638026</td>\n",
              "      <td>2.470219</td>\n",
              "      <td>0.286526</td>\n",
              "      <td>0.000299</td>\n",
              "    </tr>\n",
              "    <tr>\n",
              "      <th>16</th>\n",
              "      <td>16</td>\n",
              "      <td>[o7235, o134, o554, o1672, o1336, o270, o2182,...</td>\n",
              "      <td>[o268, o5895, o10091, o486, o2241, o4133, o706...</td>\n",
              "      <td>2594.400952</td>\n",
              "      <td>4.791396</td>\n",
              "      <td>0.263730</td>\n",
              "      <td>0.000113</td>\n",
              "    </tr>\n",
              "    <tr>\n",
              "      <th>17</th>\n",
              "      <td>17</td>\n",
              "      <td>[o523, o1402, o831, o85, o514, o19]</td>\n",
              "      <td>[o1640, o5169, o4584, o1439, o325, o1403, o141...</td>\n",
              "      <td>4436.494073</td>\n",
              "      <td>2.098502</td>\n",
              "      <td>0.376964</td>\n",
              "      <td>0.001724</td>\n",
              "    </tr>\n",
              "    <tr>\n",
              "      <th>18</th>\n",
              "      <td>18</td>\n",
              "      <td>[o177, o4339]</td>\n",
              "      <td>[o655, o10585, o1425, o644, o96, o200, o10228,...</td>\n",
              "      <td>2123.389566</td>\n",
              "      <td>1.296873</td>\n",
              "      <td>0.086737</td>\n",
              "      <td>0.000650</td>\n",
              "    </tr>\n",
              "    <tr>\n",
              "      <th>19</th>\n",
              "      <td>19</td>\n",
              "      <td>[o356, o890, o655]</td>\n",
              "      <td>[o215, o1273, o2010, o1583, o1311, o1176, o842...</td>\n",
              "      <td>3216.227739</td>\n",
              "      <td>4.440602</td>\n",
              "      <td>0.399640</td>\n",
              "      <td>0.000565</td>\n",
              "    </tr>\n",
              "    <tr>\n",
              "      <th>20</th>\n",
              "      <td>20</td>\n",
              "      <td>[o1593, o2999, o7309, o2550]</td>\n",
              "      <td>[o3896, o1995, o8161, o486, o69, o7519, o3572,...</td>\n",
              "      <td>2573.775494</td>\n",
              "      <td>1.574816</td>\n",
              "      <td>0.146763</td>\n",
              "      <td>0.000186</td>\n",
              "    </tr>\n",
              "    <tr>\n",
              "      <th>21</th>\n",
              "      <td>21</td>\n",
              "      <td>[o3426, o629, o1258, o5349]</td>\n",
              "      <td>[o4678, o10544, o7289, o9453, o3272, o5309, o2...</td>\n",
              "      <td>1766.108096</td>\n",
              "      <td>2.628490</td>\n",
              "      <td>0.694304</td>\n",
              "      <td>0.000329</td>\n",
              "    </tr>\n",
              "    <tr>\n",
              "      <th>22</th>\n",
              "      <td>22</td>\n",
              "      <td>[o200, o210, o547]</td>\n",
              "      <td>[o268, o1878, o10602, o486, o9307, o215, o3898...</td>\n",
              "      <td>3925.257155</td>\n",
              "      <td>3.091973</td>\n",
              "      <td>0.467936</td>\n",
              "      <td>0.003277</td>\n",
              "    </tr>\n",
              "    <tr>\n",
              "      <th>23</th>\n",
              "      <td>23</td>\n",
              "      <td>[o292, o1800, o3737]</td>\n",
              "      <td>[o3030, o3993, o4584, o10091, o7451, o2759, o3...</td>\n",
              "      <td>4183.625196</td>\n",
              "      <td>2.358845</td>\n",
              "      <td>0.194309</td>\n",
              "      <td>0.000201</td>\n",
              "    </tr>\n",
              "    <tr>\n",
              "      <th>24</th>\n",
              "      <td>24</td>\n",
              "      <td>[o2250]</td>\n",
              "      <td>[o6521, o5878, o9431, o7177, o86, o3916, o1176...</td>\n",
              "      <td>1215.095844</td>\n",
              "      <td>0.608643</td>\n",
              "      <td>0.095065</td>\n",
              "      <td>0.000119</td>\n",
              "    </tr>\n",
              "    <tr>\n",
              "      <th>25</th>\n",
              "      <td>25</td>\n",
              "      <td>[o2102, o248]</td>\n",
              "      <td>[o5169, o6796, o433, o526, o3952, o8476, o2640...</td>\n",
              "      <td>2075.312834</td>\n",
              "      <td>4.928676</td>\n",
              "      <td>0.845543</td>\n",
              "      <td>0.000490</td>\n",
              "    </tr>\n",
              "    <tr>\n",
              "      <th>26</th>\n",
              "      <td>27</td>\n",
              "      <td>[o178, o268, o880]</td>\n",
              "      <td>[o3669, o2978, o264, o899, o4698, o3112, o1706...</td>\n",
              "      <td>4818.708330</td>\n",
              "      <td>4.707369</td>\n",
              "      <td>0.350502</td>\n",
              "      <td>0.000189</td>\n",
              "    </tr>\n",
              "    <tr>\n",
              "      <th>27</th>\n",
              "      <td>28</td>\n",
              "      <td>[o375, o48]</td>\n",
              "      <td>[o45, o3222, o10043, o4014, o49, o4010, o1479,...</td>\n",
              "      <td>1031.489868</td>\n",
              "      <td>3.047798</td>\n",
              "      <td>0.343030</td>\n",
              "      <td>0.003097</td>\n",
              "    </tr>\n",
              "    <tr>\n",
              "      <th>28</th>\n",
              "      <td>29</td>\n",
              "      <td>[o576, o920]</td>\n",
              "      <td>[o578, o10497, o1976, o9630, o2241, o5866, o16...</td>\n",
              "      <td>1441.485495</td>\n",
              "      <td>1.268886</td>\n",
              "      <td>0.112304</td>\n",
              "      <td>0.000238</td>\n",
              "    </tr>\n",
              "    <tr>\n",
              "      <th>29</th>\n",
              "      <td>30</td>\n",
              "      <td>[o1769]</td>\n",
              "      <td>[o2990, o8494, o8958, o8735, o8736, o9050, o89...</td>\n",
              "      <td>1046.433389</td>\n",
              "      <td>0.312183</td>\n",
              "      <td>0.017690</td>\n",
              "      <td>0.000000</td>\n",
              "    </tr>\n",
              "    <tr>\n",
              "      <th>30</th>\n",
              "      <td>31</td>\n",
              "      <td>[o2, o7470, o10176]</td>\n",
              "      <td>[o486, o7903, o7443, o363, o10523, o554, o2102...</td>\n",
              "      <td>4390.473161</td>\n",
              "      <td>2.981096</td>\n",
              "      <td>0.447003</td>\n",
              "      <td>0.000490</td>\n",
              "    </tr>\n",
              "    <tr>\n",
              "      <th>31</th>\n",
              "      <td>32</td>\n",
              "      <td>[o486]</td>\n",
              "      <td>[o899, o215, o1706, o1814, o2926, o679, o5059,...</td>\n",
              "      <td>2519.753735</td>\n",
              "      <td>6.478207</td>\n",
              "      <td>0.418991</td>\n",
              "      <td>0.005369</td>\n",
              "    </tr>\n",
              "    <tr>\n",
              "      <th>32</th>\n",
              "      <td>33</td>\n",
              "      <td>[o290]</td>\n",
              "      <td>[o10091, o4584, o3216, o291, o1029, o3217, o82...</td>\n",
              "      <td>5795.903503</td>\n",
              "      <td>1.408946</td>\n",
              "      <td>0.140962</td>\n",
              "      <td>0.000087</td>\n",
              "    </tr>\n",
              "    <tr>\n",
              "      <th>33</th>\n",
              "      <td>35</td>\n",
              "      <td>[o16, o9540]</td>\n",
              "      <td>[o5169, o4445, o268, o3014, o3952, o528, o533,...</td>\n",
              "      <td>6997.811753</td>\n",
              "      <td>5.062198</td>\n",
              "      <td>0.967923</td>\n",
              "      <td>0.000417</td>\n",
              "    </tr>\n",
              "    <tr>\n",
              "      <th>34</th>\n",
              "      <td>36</td>\n",
              "      <td>[o635]</td>\n",
              "      <td>[o4231, o2604, o215, o5231, o363, o10483, o255...</td>\n",
              "      <td>1118.984874</td>\n",
              "      <td>0.650542</td>\n",
              "      <td>0.157564</td>\n",
              "      <td>0.000445</td>\n",
              "    </tr>\n",
              "    <tr>\n",
              "      <th>35</th>\n",
              "      <td>37</td>\n",
              "      <td>[o638]</td>\n",
              "      <td>[o10497, o576, o4313, o2250, o3954, o110, o426...</td>\n",
              "      <td>1240.805255</td>\n",
              "      <td>0.688364</td>\n",
              "      <td>0.075452</td>\n",
              "      <td>0.000077</td>\n",
              "    </tr>\n",
              "    <tr>\n",
              "      <th>36</th>\n",
              "      <td>42</td>\n",
              "      <td>[o1758, o865]</td>\n",
              "      <td>[o1951, o4678, o268, o5895, o5120, o3108, o866...</td>\n",
              "      <td>3513.023138</td>\n",
              "      <td>3.643242</td>\n",
              "      <td>0.313059</td>\n",
              "      <td>0.000272</td>\n",
              "    </tr>\n",
              "    <tr>\n",
              "      <th>37</th>\n",
              "      <td>44</td>\n",
              "      <td>[o165]</td>\n",
              "      <td>[o2935, o268, o4121, o2773, o2700, o7851, o233...</td>\n",
              "      <td>16996.852256</td>\n",
              "      <td>4.512659</td>\n",
              "      <td>1.139873</td>\n",
              "      <td>0.000000</td>\n",
              "    </tr>\n",
              "    <tr>\n",
              "      <th>38</th>\n",
              "      <td>49</td>\n",
              "      <td>[o198]</td>\n",
              "      <td>[o5169, o10091, o4584, o325, o533, o2759, o291...</td>\n",
              "      <td>3100.177820</td>\n",
              "      <td>3.198697</td>\n",
              "      <td>0.460969</td>\n",
              "      <td>0.000058</td>\n",
              "    </tr>\n",
              "    <tr>\n",
              "      <th>39</th>\n",
              "      <td>50</td>\n",
              "      <td>[o215]</td>\n",
              "      <td>[o1878, o486, o1855, o325, o164, o4689, o4691,...</td>\n",
              "      <td>2161.170055</td>\n",
              "      <td>4.464341</td>\n",
              "      <td>0.669476</td>\n",
              "      <td>0.003079</td>\n",
              "    </tr>\n",
              "    <tr>\n",
              "      <th>40</th>\n",
              "      <td>54</td>\n",
              "      <td>[o921]</td>\n",
              "      <td>[o1640, o3282, o4920, o1714, o10209, o6567, o6...</td>\n",
              "      <td>2104.434902</td>\n",
              "      <td>3.470181</td>\n",
              "      <td>0.341785</td>\n",
              "      <td>0.000238</td>\n",
              "    </tr>\n",
              "    <tr>\n",
              "      <th>41</th>\n",
              "      <td>57</td>\n",
              "      <td>[o1425]</td>\n",
              "      <td>[o33, o10582, o10181, o899, o48, o1318, o10228...</td>\n",
              "      <td>3142.892639</td>\n",
              "      <td>5.776939</td>\n",
              "      <td>1.057446</td>\n",
              "      <td>0.000602</td>\n",
              "    </tr>\n",
              "    <tr>\n",
              "      <th>42</th>\n",
              "      <td>59</td>\n",
              "      <td>[o176]</td>\n",
              "      <td>[o268, o486, o1739, o215, o5231, o325, o3240, ...</td>\n",
              "      <td>2546.241097</td>\n",
              "      <td>4.302389</td>\n",
              "      <td>0.532532</td>\n",
              "      <td>0.003043</td>\n",
              "    </tr>\n",
              "    <tr>\n",
              "      <th>43</th>\n",
              "      <td>64</td>\n",
              "      <td>[o209, o267]</td>\n",
              "      <td>[o268, o329, o1339, o9203, o2241, o7330, o1063...</td>\n",
              "      <td>4793.580811</td>\n",
              "      <td>8.154513</td>\n",
              "      <td>0.754794</td>\n",
              "      <td>0.000333</td>\n",
              "    </tr>\n",
              "    <tr>\n",
              "      <th>44</th>\n",
              "      <td>77</td>\n",
              "      <td>[o1034]</td>\n",
              "      <td>[o2793, o268, o4719, o7330, o6889, o2010, o843...</td>\n",
              "      <td>6416.550749</td>\n",
              "      <td>7.097608</td>\n",
              "      <td>0.450870</td>\n",
              "      <td>0.000167</td>\n",
              "    </tr>\n",
              "    <tr>\n",
              "      <th>45</th>\n",
              "      <td>79</td>\n",
              "      <td>[o15]</td>\n",
              "      <td>[o5169, o1499, o8859, o10032, o34, o6118, o885...</td>\n",
              "      <td>3047.613493</td>\n",
              "      <td>3.741517</td>\n",
              "      <td>0.767155</td>\n",
              "      <td>0.000113</td>\n",
              "    </tr>\n",
              "    <tr>\n",
              "      <th>46</th>\n",
              "      <td>81</td>\n",
              "      <td>[o154, o86]</td>\n",
              "      <td>[o3282, o4920, o7330, o2643, o4772, o63, o1052...</td>\n",
              "      <td>2507.087160</td>\n",
              "      <td>2.757975</td>\n",
              "      <td>0.309139</td>\n",
              "      <td>0.000414</td>\n",
              "    </tr>\n",
              "    <tr>\n",
              "      <th>47</th>\n",
              "      <td>96</td>\n",
              "      <td>[o338]</td>\n",
              "      <td>[o268, o5865, o486, o7026, o1855, o4719, o7330...</td>\n",
              "      <td>4239.615858</td>\n",
              "      <td>7.901985</td>\n",
              "      <td>0.544864</td>\n",
              "      <td>0.000271</td>\n",
              "    </tr>\n",
              "    <tr>\n",
              "      <th>48</th>\n",
              "      <td>102</td>\n",
              "      <td>[o4218]</td>\n",
              "      <td>[o3282, o4920, o5865, o5641, o8476, o2640, o68...</td>\n",
              "      <td>4007.338793</td>\n",
              "      <td>4.113365</td>\n",
              "      <td>0.365074</td>\n",
              "      <td>0.000255</td>\n",
              "    </tr>\n",
              "    <tr>\n",
              "      <th>49</th>\n",
              "      <td>110</td>\n",
              "      <td>[o110]</td>\n",
              "      <td>[o208, o433, o5641, o8152, o4313, o2241, o1120...</td>\n",
              "      <td>2722.811242</td>\n",
              "      <td>1.677536</td>\n",
              "      <td>0.210451</td>\n",
              "      <td>0.000250</td>\n",
              "    </tr>\n",
              "    <tr>\n",
              "      <th>50</th>\n",
              "      <td>118</td>\n",
              "      <td>[o84]</td>\n",
              "      <td>[o862, o2635, o268, o8152, o2241, o10634, o477...</td>\n",
              "      <td>1968.315017</td>\n",
              "      <td>2.737717</td>\n",
              "      <td>0.187076</td>\n",
              "      <td>0.000148</td>\n",
              "    </tr>\n",
              "    <tr>\n",
              "      <th>51</th>\n",
              "      <td>244</td>\n",
              "      <td>[o263]</td>\n",
              "      <td>[o1640, o6796, o4719, o1876, o7330, o8430, o19...</td>\n",
              "      <td>4355.249682</td>\n",
              "      <td>6.002787</td>\n",
              "      <td>0.386156</td>\n",
              "      <td>0.008279</td>\n",
              "    </tr>\n",
              "    <tr>\n",
              "      <th>52</th>\n",
              "      <td>370</td>\n",
              "      <td>[o79]</td>\n",
              "      <td>[o433, o150, o597, o4719, o1876, o2241, o10634...</td>\n",
              "      <td>2377.602018</td>\n",
              "      <td>3.197509</td>\n",
              "      <td>0.204395</td>\n",
              "      <td>0.000070</td>\n",
              "    </tr>\n",
              "    <tr>\n",
              "      <th>53</th>\n",
              "      <td>440</td>\n",
              "      <td>[o96]</td>\n",
              "      <td>[o433, o597, o2219, o4719, o7245, o10521, o875...</td>\n",
              "      <td>1937.798651</td>\n",
              "      <td>3.031498</td>\n",
              "      <td>0.242413</td>\n",
              "      <td>0.004960</td>\n",
              "    </tr>\n",
              "    <tr>\n",
              "      <th>54</th>\n",
              "      <td>450</td>\n",
              "      <td>[o67]</td>\n",
              "      <td>[o4678, o433, o597, o731, o10737, o2800, o1052...</td>\n",
              "      <td>3002.159461</td>\n",
              "      <td>2.904416</td>\n",
              "      <td>0.202419</td>\n",
              "      <td>0.000506</td>\n",
              "    </tr>\n",
              "  </tbody>\n",
              "</table>\n",
              "</div>"
            ],
            "text/plain": [
              "    degree  ... mean_p28_neighboor_gt\n",
              "0        0  ...                   NaN\n",
              "1        1  ...              0.000422\n",
              "2        2  ...              0.000321\n",
              "3        3  ...              0.002526\n",
              "4        4  ...              0.000597\n",
              "5        5  ...              0.000261\n",
              "6        6  ...              0.000200\n",
              "7        7  ...              0.000584\n",
              "8        8  ...              0.001552\n",
              "9        9  ...              0.002823\n",
              "10      10  ...              0.000266\n",
              "11      11  ...              0.000085\n",
              "12      12  ...              0.000213\n",
              "13      13  ...              0.000316\n",
              "14      14  ...              0.001689\n",
              "15      15  ...              0.000299\n",
              "16      16  ...              0.000113\n",
              "17      17  ...              0.001724\n",
              "18      18  ...              0.000650\n",
              "19      19  ...              0.000565\n",
              "20      20  ...              0.000186\n",
              "21      21  ...              0.000329\n",
              "22      22  ...              0.003277\n",
              "23      23  ...              0.000201\n",
              "24      24  ...              0.000119\n",
              "25      25  ...              0.000490\n",
              "26      27  ...              0.000189\n",
              "27      28  ...              0.003097\n",
              "28      29  ...              0.000238\n",
              "29      30  ...              0.000000\n",
              "30      31  ...              0.000490\n",
              "31      32  ...              0.005369\n",
              "32      33  ...              0.000087\n",
              "33      35  ...              0.000417\n",
              "34      36  ...              0.000445\n",
              "35      37  ...              0.000077\n",
              "36      42  ...              0.000272\n",
              "37      44  ...              0.000000\n",
              "38      49  ...              0.000058\n",
              "39      50  ...              0.003079\n",
              "40      54  ...              0.000238\n",
              "41      57  ...              0.000602\n",
              "42      59  ...              0.003043\n",
              "43      64  ...              0.000333\n",
              "44      77  ...              0.000167\n",
              "45      79  ...              0.000113\n",
              "46      81  ...              0.000414\n",
              "47      96  ...              0.000271\n",
              "48     102  ...              0.000255\n",
              "49     110  ...              0.000250\n",
              "50     118  ...              0.000148\n",
              "51     244  ...              0.008279\n",
              "52     370  ...              0.000070\n",
              "53     440  ...              0.004960\n",
              "54     450  ...              0.000506\n",
              "\n",
              "[55 rows x 7 columns]"
            ]
          },
          "metadata": {},
          "execution_count": 109
        }
      ]
    },
    {
      "cell_type": "code",
      "metadata": {
        "id": "iMtoQMBEtGv2"
      },
      "source": [
        " df_rc_quality_gt_grouped1['degree'] = df_rc_quality_gt_grouped1.index"
      ],
      "execution_count": null,
      "outputs": []
    },
    {
      "cell_type": "code",
      "metadata": {
        "id": "_WZkR9bTyskG"
      },
      "source": [
        "df_rc_quality_gt_grouped1 = df_rc_quality_gt_grouped1.drop(columns=\"degree\")"
      ],
      "execution_count": null,
      "outputs": []
    },
    {
      "cell_type": "code",
      "metadata": {
        "id": "ppGCZe09u9WT"
      },
      "source": [
        "df_rc_gt_p11neighboor = pd.merge(df_rc_quality_gt_grouped1,df_rc_quality_gt_groupedneighboor[[\"mean_p11_neighboor_gt\",\"degree\"]], on=\"degree\" )"
      ],
      "execution_count": null,
      "outputs": []
    },
    {
      "cell_type": "code",
      "metadata": {
        "id": "8-wXwu7Vgahl"
      },
      "source": [
        "df_rc_gcp_p11neighboor = pd.merge(df_rc_quality_gcp_grouped1,df_rc_quality_gcp_groupedneighboor[[\"mean_p11_neighboor_gcp\",\"degree\"]], on=\"degree\" )"
      ],
      "execution_count": null,
      "outputs": []
    },
    {
      "cell_type": "code",
      "metadata": {
        "id": "5S02WXDZ5XLg"
      },
      "source": [
        "df_rc_gfilt_p11neighboor = pd.merge(df_rc_quality_gfilt_grouped1,df_rc_quality_gfilt_groupedneighboor[[\"mean_p11_neighboor_gfilt\",\"degree\"]], on=\"degree\" )"
      ],
      "execution_count": 135,
      "outputs": []
    },
    {
      "cell_type": "code",
      "metadata": {
        "colab": {
          "base_uri": "https://localhost:8080/",
          "height": 203
        },
        "id": "qvRgmxcuz7Ho",
        "outputId": "3e6250ae-b727-44c1-8453-95ea97e94a07"
      },
      "source": [
        "df_rc_gt_p11neighboor.head()"
      ],
      "execution_count": null,
      "outputs": [
        {
          "output_type": "execute_result",
          "data": {
            "text/html": [
              "<div>\n",
              "<style scoped>\n",
              "    .dataframe tbody tr th:only-of-type {\n",
              "        vertical-align: middle;\n",
              "    }\n",
              "\n",
              "    .dataframe tbody tr th {\n",
              "        vertical-align: top;\n",
              "    }\n",
              "\n",
              "    .dataframe thead th {\n",
              "        text-align: right;\n",
              "    }\n",
              "</style>\n",
              "<table border=\"1\" class=\"dataframe\">\n",
              "  <thead>\n",
              "    <tr style=\"text-align: right;\">\n",
              "      <th></th>\n",
              "      <th>degree</th>\n",
              "      <th>p11</th>\n",
              "      <th>p23</th>\n",
              "      <th>p26a</th>\n",
              "      <th>p26c</th>\n",
              "      <th>p26e</th>\n",
              "      <th>p28a</th>\n",
              "      <th>p28c</th>\n",
              "      <th>p28e</th>\n",
              "      <th>rich_club</th>\n",
              "      <th>rich_club_norm</th>\n",
              "      <th>mean_p11_neighboor_gt</th>\n",
              "    </tr>\n",
              "  </thead>\n",
              "  <tbody>\n",
              "    <tr>\n",
              "      <th>0</th>\n",
              "      <td>0</td>\n",
              "      <td>115.423469</td>\n",
              "      <td>0.543438</td>\n",
              "      <td>0.028928</td>\n",
              "      <td>0.025112</td>\n",
              "      <td>0.004088</td>\n",
              "      <td>0.000264</td>\n",
              "      <td>0.0</td>\n",
              "      <td>0.000353</td>\n",
              "      <td>0.000146</td>\n",
              "      <td>1.000092</td>\n",
              "      <td>NaN</td>\n",
              "    </tr>\n",
              "    <tr>\n",
              "      <th>1</th>\n",
              "      <td>1</td>\n",
              "      <td>410.812767</td>\n",
              "      <td>0.754284</td>\n",
              "      <td>0.100877</td>\n",
              "      <td>0.039815</td>\n",
              "      <td>0.004571</td>\n",
              "      <td>0.000069</td>\n",
              "      <td>0.0</td>\n",
              "      <td>0.000000</td>\n",
              "      <td>0.000550</td>\n",
              "      <td>0.838725</td>\n",
              "      <td>574.319652</td>\n",
              "    </tr>\n",
              "    <tr>\n",
              "      <th>2</th>\n",
              "      <td>2</td>\n",
              "      <td>1807.084547</td>\n",
              "      <td>1.298297</td>\n",
              "      <td>0.121233</td>\n",
              "      <td>0.168209</td>\n",
              "      <td>0.018921</td>\n",
              "      <td>0.000480</td>\n",
              "      <td>0.0</td>\n",
              "      <td>0.000000</td>\n",
              "      <td>0.001266</td>\n",
              "      <td>0.879391</td>\n",
              "      <td>1700.730852</td>\n",
              "    </tr>\n",
              "    <tr>\n",
              "      <th>3</th>\n",
              "      <td>3</td>\n",
              "      <td>1318.489436</td>\n",
              "      <td>1.096386</td>\n",
              "      <td>0.175460</td>\n",
              "      <td>0.065949</td>\n",
              "      <td>0.034669</td>\n",
              "      <td>0.000000</td>\n",
              "      <td>0.0</td>\n",
              "      <td>0.003082</td>\n",
              "      <td>0.002303</td>\n",
              "      <td>0.925083</td>\n",
              "      <td>2563.853747</td>\n",
              "    </tr>\n",
              "    <tr>\n",
              "      <th>4</th>\n",
              "      <td>4</td>\n",
              "      <td>4376.119575</td>\n",
              "      <td>1.551681</td>\n",
              "      <td>0.026781</td>\n",
              "      <td>0.103230</td>\n",
              "      <td>0.003035</td>\n",
              "      <td>0.000000</td>\n",
              "      <td>0.0</td>\n",
              "      <td>0.000000</td>\n",
              "      <td>0.003884</td>\n",
              "      <td>0.974938</td>\n",
              "      <td>4914.719065</td>\n",
              "    </tr>\n",
              "  </tbody>\n",
              "</table>\n",
              "</div>"
            ],
            "text/plain": [
              "   degree          p11  ...  rich_club_norm  mean_p11_neighboor_gt\n",
              "0       0   115.423469  ...        1.000092                    NaN\n",
              "1       1   410.812767  ...        0.838725             574.319652\n",
              "2       2  1807.084547  ...        0.879391            1700.730852\n",
              "3       3  1318.489436  ...        0.925083            2563.853747\n",
              "4       4  4376.119575  ...        0.974938            4914.719065\n",
              "\n",
              "[5 rows x 12 columns]"
            ]
          },
          "metadata": {},
          "execution_count": 64
        }
      ]
    },
    {
      "cell_type": "code",
      "metadata": {
        "colab": {
          "base_uri": "https://localhost:8080/",
          "height": 203
        },
        "id": "zjAMz0RygheY",
        "outputId": "e56f96d9-7c16-4dcb-a6e8-22c3dfe9694d"
      },
      "source": [
        "df_rc_gcp_p11neighboor.head()"
      ],
      "execution_count": null,
      "outputs": [
        {
          "output_type": "execute_result",
          "data": {
            "text/html": [
              "<div>\n",
              "<style scoped>\n",
              "    .dataframe tbody tr th:only-of-type {\n",
              "        vertical-align: middle;\n",
              "    }\n",
              "\n",
              "    .dataframe tbody tr th {\n",
              "        vertical-align: top;\n",
              "    }\n",
              "\n",
              "    .dataframe thead th {\n",
              "        text-align: right;\n",
              "    }\n",
              "</style>\n",
              "<table border=\"1\" class=\"dataframe\">\n",
              "  <thead>\n",
              "    <tr style=\"text-align: right;\">\n",
              "      <th></th>\n",
              "      <th>degree</th>\n",
              "      <th>p11</th>\n",
              "      <th>p23</th>\n",
              "      <th>p26a</th>\n",
              "      <th>p26c</th>\n",
              "      <th>p26e</th>\n",
              "      <th>p28a</th>\n",
              "      <th>p28c</th>\n",
              "      <th>p28e</th>\n",
              "      <th>rich_club</th>\n",
              "      <th>rich_club_norm</th>\n",
              "      <th>mean_p11_neighboor_gt</th>\n",
              "    </tr>\n",
              "  </thead>\n",
              "  <tbody>\n",
              "    <tr>\n",
              "      <th>0</th>\n",
              "      <td>1</td>\n",
              "      <td>674.563281</td>\n",
              "      <td>1.118946</td>\n",
              "      <td>0.034825</td>\n",
              "      <td>0.036011</td>\n",
              "      <td>0.007590</td>\n",
              "      <td>0.000271</td>\n",
              "      <td>0.0</td>\n",
              "      <td>0.000000</td>\n",
              "      <td>0.001972</td>\n",
              "      <td>0.910227</td>\n",
              "      <td>2155.079476</td>\n",
              "    </tr>\n",
              "    <tr>\n",
              "      <th>1</th>\n",
              "      <td>2</td>\n",
              "      <td>1261.256876</td>\n",
              "      <td>2.474309</td>\n",
              "      <td>0.198970</td>\n",
              "      <td>0.248413</td>\n",
              "      <td>0.035099</td>\n",
              "      <td>0.001082</td>\n",
              "      <td>0.0</td>\n",
              "      <td>0.000000</td>\n",
              "      <td>0.002817</td>\n",
              "      <td>0.852274</td>\n",
              "      <td>1271.574770</td>\n",
              "    </tr>\n",
              "    <tr>\n",
              "      <th>2</th>\n",
              "      <td>3</td>\n",
              "      <td>1998.115968</td>\n",
              "      <td>1.599473</td>\n",
              "      <td>0.117202</td>\n",
              "      <td>0.112044</td>\n",
              "      <td>0.058246</td>\n",
              "      <td>0.000000</td>\n",
              "      <td>0.0</td>\n",
              "      <td>0.005236</td>\n",
              "      <td>0.004101</td>\n",
              "      <td>0.813712</td>\n",
              "      <td>1903.674799</td>\n",
              "    </tr>\n",
              "    <tr>\n",
              "      <th>3</th>\n",
              "      <td>4</td>\n",
              "      <td>2458.387762</td>\n",
              "      <td>2.268702</td>\n",
              "      <td>0.038662</td>\n",
              "      <td>0.148637</td>\n",
              "      <td>0.004682</td>\n",
              "      <td>0.000000</td>\n",
              "      <td>0.0</td>\n",
              "      <td>0.000000</td>\n",
              "      <td>0.006280</td>\n",
              "      <td>0.804753</td>\n",
              "      <td>1768.466259</td>\n",
              "    </tr>\n",
              "    <tr>\n",
              "      <th>4</th>\n",
              "      <td>5</td>\n",
              "      <td>2938.051275</td>\n",
              "      <td>2.374355</td>\n",
              "      <td>0.028328</td>\n",
              "      <td>0.116729</td>\n",
              "      <td>0.012634</td>\n",
              "      <td>0.000000</td>\n",
              "      <td>0.0</td>\n",
              "      <td>0.000000</td>\n",
              "      <td>0.006711</td>\n",
              "      <td>0.569397</td>\n",
              "      <td>2743.597227</td>\n",
              "    </tr>\n",
              "  </tbody>\n",
              "</table>\n",
              "</div>"
            ],
            "text/plain": [
              "   degree          p11  ...  rich_club_norm  mean_p11_neighboor_gt\n",
              "0       1   674.563281  ...        0.910227            2155.079476\n",
              "1       2  1261.256876  ...        0.852274            1271.574770\n",
              "2       3  1998.115968  ...        0.813712            1903.674799\n",
              "3       4  2458.387762  ...        0.804753            1768.466259\n",
              "4       5  2938.051275  ...        0.569397            2743.597227\n",
              "\n",
              "[5 rows x 12 columns]"
            ]
          },
          "metadata": {},
          "execution_count": 98
        }
      ]
    },
    {
      "cell_type": "code",
      "metadata": {
        "id": "S0yOstDOyAEf"
      },
      "source": [
        "aaaaa_1_gt = df_rc_gt_p11neighboor[[\"degree\",\"rich_club_norm\",\"p11\",\"mean_p11_neighboor_gt\"]].query('p11 >=mean_p11_neighboor_gt')\n",
        "aaaaa_2_gt = df_rc_gt_p11neighboor[[\"degree\",\"rich_club_norm\",\"p11\",\"mean_p11_neighboor_gt\"]].query('p11 <mean_p11_neighboor_gt')\n",
        "\n",
        "aaaaa_1_gcp = df_rc_gcp_p11neighboor[[\"degree\",\"rich_club_norm\",\"p11\",\"mean_p11_neighboor_gcp\"]].query('p11 >=mean_p11_neighboor_gcp')\n",
        "aaaaa_2_gcp = df_rc_gcp_p11neighboor[[\"degree\",\"rich_club_norm\",\"p11\",\"mean_p11_neighboor_gcp\"]].query('p11 <mean_p11_neighboor_gcp')\n",
        "\n",
        "aaaaa_1_gfilt = df_rc_gfilt_p11neighboor[[\"degree\",\"rich_club_norm\",\"p11\",\"mean_p11_neighboor_gfilt\"]].query('p11 >=mean_p11_neighboor_gfilt')\n",
        "aaaaa_2_gfilt = df_rc_gfilt_p11neighboor[[\"degree\",\"rich_club_norm\",\"p11\",\"mean_p11_neighboor_gfilt\"]].query('p11 <mean_p11_neighboor_gfilt')"
      ],
      "execution_count": 136,
      "outputs": []
    },
    {
      "cell_type": "code",
      "metadata": {
        "colab": {
          "base_uri": "https://localhost:8080/",
          "height": 625
        },
        "id": "aZQru2EIzH1L",
        "outputId": "e1daf720-ba28-4196-f119-8ee1df06a775"
      },
      "source": [
        "import numpy as np\n",
        "np.random.seed(42)\n",
        "from scipy.stats import binned_statistic\n",
        "import matplotlib.pyplot as plt\n",
        "\n",
        "fig, ax = plt.subplots(figsize=(10,10))\n",
        "scatter1 = ax.scatter(aaaaa_1_gt[\"degree\"],aaaaa_1_gt[\"rich_club_norm\"], s=aaaaa_1_gt[\"p11\"]/100, color='purple', label='GT p11')\n",
        "ax.scatter(aaaaa_1_gt[\"degree\"],aaaaa_1_gt[\"rich_club_norm\"], s=aaaaa_1_gt[\"mean_p11_neighboor_gt\"]/100, color='pink',label ='GT p11 mean neighboor')\n",
        "\n",
        "ax.scatter(aaaaa_2_gt[\"degree\"],aaaaa_2_gt[\"rich_club_norm\"], s=aaaaa_2_gt[\"mean_p11_neighboor_gt\"]/100, color='pink',alpha=1)\n",
        "ax.scatter(aaaaa_2_gt[\"degree\"],aaaaa_2_gt[\"rich_club_norm\"], s=aaaaa_2_gt[\"p11\"]/100, color='purple')\n",
        "\n",
        "ax.scatter(aaaaa_1_gcp[\"degree\"],aaaaa_1_gcp[\"rich_club_norm\"], s=aaaaa_1_gcp[\"p11\"]/100, color='orange', label='GCP p11')\n",
        "ax.scatter(aaaaa_1_gcp[\"degree\"],aaaaa_1_gcp[\"rich_club_norm\"], s=aaaaa_1_gcp[\"mean_p11_neighboor_gcp\"]/100, color='#77DD77', label='GCP p11 mean neighboor')\n",
        "\n",
        "ax.scatter(aaaaa_2_gcp[\"degree\"],aaaaa_2_gcp[\"rich_club_norm\"], s=aaaaa_2_gcp[\"mean_p11_neighboor_gcp\"]/100, color='#77DD77',alpha=1)\n",
        "ax.scatter(aaaaa_2_gcp[\"degree\"],aaaaa_2_gcp[\"rich_club_norm\"], s=aaaaa_2_gcp[\"p11\"]/100, color='orange')\n",
        "\n",
        "\n",
        "ax.scatter(aaaaa_1_gfilt[\"degree\"],aaaaa_1_gfilt[\"rich_club_norm\"], s=aaaaa_1_gfilt[\"p11\"]/100, color='red', label='GFILT p11')\n",
        "ax.scatter(aaaaa_1_gfilt[\"degree\"],aaaaa_1_gfilt[\"rich_club_norm\"], s=aaaaa_1_gfilt[\"mean_p11_neighboor_gfilt\"]/100, color='yellow', label='GFILT p11 mean neighboor')\n",
        "\n",
        "ax.scatter(aaaaa_2_gfilt[\"degree\"],aaaaa_2_gfilt[\"rich_club_norm\"], s=aaaaa_2_gfilt[\"mean_p11_neighboor_gfilt\"]/100, color='yellow',alpha=1)\n",
        "ax.scatter(aaaaa_2_gfilt[\"degree\"],aaaaa_2_gfilt[\"rich_club_norm\"], s=aaaaa_2_gfilt[\"p11\"]/100, color='red')\n",
        "\n",
        "ax.axhline(y=1, color='g', linestyle='--',lw=1)\n",
        "\n",
        "ax.set_yscale(\"log\")\n",
        "ax.set_xscale(\"log\")\n",
        "\n",
        "handles, labels = scatter1.legend_elements(prop=\"sizes\", alpha=0.7, func = lambda x: 100*x, color='purple')\n",
        "\n",
        "plt.title(\"Rich Club & p11 (Log Log)\")\n",
        "plt.xlabel(\"Grado (Log)\")\n",
        "plt.ylabel(\"Rich Club (Log)\")\n",
        "legend_color = plt.legend(bbox_to_anchor=(0.18,0.3), loc=\"center\", borderaxespad=1)\n",
        "\n",
        "plt.legend(handles, labels, loc=\"upper right\", title=\"Sizes\")\n",
        "plt.ylim(bottom=0.01, top=2)\n",
        "plt.xlim(0.9, 400)\n",
        "\n",
        "plt.gca().add_artist(legend_color)\n",
        "plt.show()"
      ],
      "execution_count": 157,
      "outputs": [
        {
          "output_type": "display_data",
          "data": {
            "image/png": "[encoded data removed]",
            "text/plain": [
              "<Figure size 720x720 with 1 Axes>"
            ]
          },
          "metadata": {
            "needs_background": "light"
          }
        }
      ]
    },
    {
      "cell_type": "code",
      "metadata": {
        "id": "yCJ-GNHN0vJc"
      },
      "source": [
        "df_rc_gt_p23neighboor = pd.merge(df_rc_quality_gt_grouped1,df_rc_quality_gt_groupedneighboor[[\"mean_p23_neighboor_gt\",\"degree\"]], on=\"degree\" )"
      ],
      "execution_count": null,
      "outputs": []
    },
    {
      "cell_type": "code",
      "metadata": {
        "id": "C2b8BdvxhtZo"
      },
      "source": [
        "df_rc_gcp_p23neighboor = pd.merge(df_rc_quality_gcp_grouped1,df_rc_quality_gcp_groupedneighboor[[\"mean_p23_neighboor_gcp\",\"degree\"]], on=\"degree\" )"
      ],
      "execution_count": null,
      "outputs": []
    },
    {
      "cell_type": "code",
      "metadata": {
        "id": "s1FUIGhl-_-s"
      },
      "source": [
        "df_rc_gfilt_p23neighboor = pd.merge(df_rc_quality_gfilt_grouped1,df_rc_quality_gfilt_groupedneighboor[[\"mean_p23_neighboor_gfilt\",\"degree\"]], on=\"degree\" )"
      ],
      "execution_count": 159,
      "outputs": []
    },
    {
      "cell_type": "code",
      "metadata": {
        "colab": {
          "base_uri": "https://localhost:8080/",
          "height": 203
        },
        "id": "sL9O6-amKl0M",
        "outputId": "5e6c1a18-5103-44dc-96ef-71f0e0f4f139"
      },
      "source": [
        "df_rc_gt_p23neighboor.head()"
      ],
      "execution_count": null,
      "outputs": [
        {
          "output_type": "execute_result",
          "data": {
            "text/html": [
              "<div>\n",
              "<style scoped>\n",
              "    .dataframe tbody tr th:only-of-type {\n",
              "        vertical-align: middle;\n",
              "    }\n",
              "\n",
              "    .dataframe tbody tr th {\n",
              "        vertical-align: top;\n",
              "    }\n",
              "\n",
              "    .dataframe thead th {\n",
              "        text-align: right;\n",
              "    }\n",
              "</style>\n",
              "<table border=\"1\" class=\"dataframe\">\n",
              "  <thead>\n",
              "    <tr style=\"text-align: right;\">\n",
              "      <th></th>\n",
              "      <th>degree</th>\n",
              "      <th>p11</th>\n",
              "      <th>p23</th>\n",
              "      <th>p26a</th>\n",
              "      <th>p26c</th>\n",
              "      <th>p26e</th>\n",
              "      <th>p28a</th>\n",
              "      <th>p28c</th>\n",
              "      <th>p28e</th>\n",
              "      <th>rich_club</th>\n",
              "      <th>rich_club_norm</th>\n",
              "      <th>mean_p23_neighboor_gt</th>\n",
              "    </tr>\n",
              "  </thead>\n",
              "  <tbody>\n",
              "    <tr>\n",
              "      <th>0</th>\n",
              "      <td>0</td>\n",
              "      <td>115.423469</td>\n",
              "      <td>0.543438</td>\n",
              "      <td>0.028928</td>\n",
              "      <td>0.025112</td>\n",
              "      <td>0.004088</td>\n",
              "      <td>0.000264</td>\n",
              "      <td>0.0</td>\n",
              "      <td>0.000353</td>\n",
              "      <td>0.000146</td>\n",
              "      <td>1.000092</td>\n",
              "      <td>NaN</td>\n",
              "    </tr>\n",
              "    <tr>\n",
              "      <th>1</th>\n",
              "      <td>1</td>\n",
              "      <td>410.812767</td>\n",
              "      <td>0.754284</td>\n",
              "      <td>0.100877</td>\n",
              "      <td>0.039815</td>\n",
              "      <td>0.004571</td>\n",
              "      <td>0.000069</td>\n",
              "      <td>0.0</td>\n",
              "      <td>0.000000</td>\n",
              "      <td>0.000550</td>\n",
              "      <td>0.838725</td>\n",
              "      <td>0.830298</td>\n",
              "    </tr>\n",
              "    <tr>\n",
              "      <th>2</th>\n",
              "      <td>2</td>\n",
              "      <td>1807.084547</td>\n",
              "      <td>1.298297</td>\n",
              "      <td>0.121233</td>\n",
              "      <td>0.168209</td>\n",
              "      <td>0.018921</td>\n",
              "      <td>0.000480</td>\n",
              "      <td>0.0</td>\n",
              "      <td>0.000000</td>\n",
              "      <td>0.001266</td>\n",
              "      <td>0.879391</td>\n",
              "      <td>1.094862</td>\n",
              "    </tr>\n",
              "    <tr>\n",
              "      <th>3</th>\n",
              "      <td>3</td>\n",
              "      <td>1318.489436</td>\n",
              "      <td>1.096386</td>\n",
              "      <td>0.175460</td>\n",
              "      <td>0.065949</td>\n",
              "      <td>0.034669</td>\n",
              "      <td>0.000000</td>\n",
              "      <td>0.0</td>\n",
              "      <td>0.003082</td>\n",
              "      <td>0.002303</td>\n",
              "      <td>0.925083</td>\n",
              "      <td>1.069714</td>\n",
              "    </tr>\n",
              "    <tr>\n",
              "      <th>4</th>\n",
              "      <td>4</td>\n",
              "      <td>4376.119575</td>\n",
              "      <td>1.551681</td>\n",
              "      <td>0.026781</td>\n",
              "      <td>0.103230</td>\n",
              "      <td>0.003035</td>\n",
              "      <td>0.000000</td>\n",
              "      <td>0.0</td>\n",
              "      <td>0.000000</td>\n",
              "      <td>0.003884</td>\n",
              "      <td>0.974938</td>\n",
              "      <td>1.805986</td>\n",
              "    </tr>\n",
              "  </tbody>\n",
              "</table>\n",
              "</div>"
            ],
            "text/plain": [
              "   degree          p11  ...  rich_club_norm  mean_p23_neighboor_gt\n",
              "0       0   115.423469  ...        1.000092                    NaN\n",
              "1       1   410.812767  ...        0.838725               0.830298\n",
              "2       2  1807.084547  ...        0.879391               1.094862\n",
              "3       3  1318.489436  ...        0.925083               1.069714\n",
              "4       4  4376.119575  ...        0.974938               1.805986\n",
              "\n",
              "[5 rows x 12 columns]"
            ]
          },
          "metadata": {},
          "execution_count": 66
        }
      ]
    },
    {
      "cell_type": "code",
      "metadata": {
        "id": "6-2jc3QpKpcE"
      },
      "source": [
        "bbbbb_1_gt = df_rc_gt_p23neighboor[[\"degree\",\"rich_club_norm\",\"p23\",\"mean_p23_neighboor_gt\"]].query('p23 >=mean_p23_neighboor_gt')\n",
        "bbbbb_2_gt = df_rc_gt_p23neighboor[[\"degree\",\"rich_club_norm\",\"p23\",\"mean_p23_neighboor_gt\"]].query('p23 <mean_p23_neighboor_gt')\n",
        "\n",
        "bbbbb_1_gcp = df_rc_gcp_p23neighboor[[\"degree\",\"rich_club_norm\",\"p23\",\"mean_p23_neighboor_gcp\"]].query('p23 >=mean_p23_neighboor_gcp')\n",
        "bbbbb_2_gcp = df_rc_gcp_p23neighboor[[\"degree\",\"rich_club_norm\",\"p23\",\"mean_p23_neighboor_gcp\"]].query('p23 <mean_p23_neighboor_gcp')\n",
        "\n",
        "bbbbb_1_gfilt = df_rc_gfilt_p23neighboor[[\"degree\",\"rich_club_norm\",\"p23\",\"mean_p23_neighboor_gfilt\"]].query('p23 >=mean_p23_neighboor_gfilt')\n",
        "bbbbb_2_gfilt = df_rc_gfilt_p23neighboor[[\"degree\",\"rich_club_norm\",\"p23\",\"mean_p23_neighboor_gfilt\"]].query('p23 <mean_p23_neighboor_gfilt')"
      ],
      "execution_count": 160,
      "outputs": []
    },
    {
      "cell_type": "code",
      "metadata": {
        "colab": {
          "base_uri": "https://localhost:8080/",
          "height": 625
        },
        "id": "I3T00lSrK7D2",
        "outputId": "8e4ef6f1-3b66-49e4-9cc3-24ff05db428c"
      },
      "source": [
        "import numpy as np\n",
        "np.random.seed(42)\n",
        "from scipy.stats import binned_statistic\n",
        "import matplotlib.pyplot as plt\n",
        "\n",
        "fig, ax = plt.subplots(figsize=(10,10))\n",
        "scatter1 = ax.scatter(bbbbb_1_gt[\"degree\"],bbbbb_1_gt[\"rich_club_norm\"], s=10*bbbbb_1_gt[\"p23\"], color='purple',label='GT p23')\n",
        "ax.scatter(bbbbb_1_gt[\"degree\"],bbbbb_1_gt[\"rich_club_norm\"], s=10*bbbbb_1_gt[\"mean_p23_neighboor_gt\"], color='pink',label='GT p23 mean neighboor')\n",
        "\n",
        "ax.scatter(bbbbb_2_gt[\"degree\"],bbbbb_2_gt[\"rich_club_norm\"], s=10*bbbbb_2_gt[\"mean_p23_neighboor_gt\"], color='pink',alpha=1)\n",
        "ax.scatter(bbbbb_2_gt[\"degree\"],bbbbb_2_gt[\"rich_club_norm\"], s=10*bbbbb_2_gt[\"p23\"], color='purple')\n",
        "\n",
        "\n",
        "ax.scatter(bbbbb_1_gcp[\"degree\"],bbbbb_1_gcp[\"rich_club_norm\"], s=10*bbbbb_1_gcp[\"p23\"], color='orange', label='GCP p23')\n",
        "ax.scatter(bbbbb_1_gcp[\"degree\"],bbbbb_1_gcp[\"rich_club_norm\"], s=10*bbbbb_1_gcp[\"mean_p23_neighboor_gcp\"], color='#77DD77', label='GCP p23 mean neighboor')\n",
        "\n",
        "ax.scatter(bbbbb_2_gcp[\"degree\"],bbbbb_2_gcp[\"rich_club_norm\"], s=10*bbbbb_2_gcp[\"mean_p23_neighboor_gcp\"], color='#77DD77',alpha=1)\n",
        "ax.scatter(bbbbb_2_gcp[\"degree\"],bbbbb_2_gcp[\"rich_club_norm\"], s=10*bbbbb_2_gcp[\"p23\"], color='orange')\n",
        "\n",
        "\n",
        "ax.scatter(bbbbb_1_gfilt[\"degree\"],bbbbb_1_gfilt[\"rich_club_norm\"], s=10*bbbbb_1_gfilt[\"p23\"], color='red',label='GFILT p23')\n",
        "ax.scatter(bbbbb_1_gfilt[\"degree\"],bbbbb_1_gfilt[\"rich_club_norm\"], s=10*bbbbb_1_gfilt[\"mean_p23_neighboor_gfilt\"], color='yellow',label='GFILT p23 mean neighboor')\n",
        "\n",
        "ax.scatter(bbbbb_2_gfilt[\"degree\"],bbbbb_2_gfilt[\"rich_club_norm\"], s=10*bbbbb_2_gfilt[\"mean_p23_neighboor_gfilt\"], color='yellow',alpha=1)\n",
        "ax.scatter(bbbbb_2_gfilt[\"degree\"],bbbbb_2_gfilt[\"rich_club_norm\"], s=10*bbbbb_2_gfilt[\"p23\"], color='red')\n",
        "\n",
        "ax.axhline(y=1, color='g', linestyle='--',lw=1)\n",
        "\n",
        "ax.set_yscale(\"log\")\n",
        "ax.set_xscale(\"log\")\n",
        "\n",
        "handles, labels = scatter1.legend_elements(prop=\"sizes\", alpha=0.7, func = lambda x: x/10, color='purple')\n",
        "\n",
        "plt.title(\"Rich Club & p23 (Log Log)\")\n",
        "plt.xlabel(\"Grado (Log)\")\n",
        "plt.ylabel(\"Rich Club (Log)\")\n",
        "legend_color = plt.legend(bbox_to_anchor=(0.18,0.3), loc=\"center\", borderaxespad=1)\n",
        "\n",
        "plt.legend(handles, labels, loc=\"upper right\", title=\"Sizes\")\n",
        "plt.ylim(bottom=0.01, top=2)\n",
        "plt.xlim(0.9, 400)\n",
        "plt.gca().add_artist(legend_color)\n",
        "\n",
        "plt.show()"
      ],
      "execution_count": 161,
      "outputs": [
        {
          "output_type": "display_data",
          "data": {
            "image/png": "[encoded data removed]",
            "text/plain": [
              "<Figure size 720x720 with 1 Axes>"
            ]
          },
          "metadata": {
            "needs_background": "light"
          }
        }
      ]
    },
    {
      "cell_type": "code",
      "metadata": {
        "id": "JwESgujgN8LZ"
      },
      "source": [
        "df_rc_quality_gt_groupedneighboor[\"mean_p26_neighboor_gt\"] = df_rc_quality_gt_groupedneighboor[\"neighboor\"].apply(lambda x: mean_neighboor_gt(x, \"p26a\")) + df_rc_quality_gt_groupedneighboor[\"neighboor\"].apply(lambda x: mean_neighboor_gt(x, \"p26c\")) + df_rc_quality_gt_groupedneighboor[\"neighboor\"].apply(lambda x: mean_neighboor_gt(x, \"p26e\"))"
      ],
      "execution_count": null,
      "outputs": []
    },
    {
      "cell_type": "code",
      "metadata": {
        "id": "AvKdAlDbi6Ba"
      },
      "source": [
        "df_rc_quality_gcp_groupedneighboor[\"mean_p26_neighboor_gcp\"] = df_rc_quality_gcp_groupedneighboor[\"neighboor\"].apply(lambda x: mean_neighboor_gcp(x, \"p26a\")) + df_rc_quality_gcp_groupedneighboor[\"neighboor\"].apply(lambda x: mean_neighboor_gcp(x, \"p26c\")) + df_rc_quality_gcp_groupedneighboor[\"neighboor\"].apply(lambda x: mean_neighboor_gcp(x, \"p26e\"))"
      ],
      "execution_count": null,
      "outputs": []
    },
    {
      "cell_type": "code",
      "metadata": {
        "id": "4aP_61yYCSO2"
      },
      "source": [
        "df_rc_quality_gfilt_groupedneighboor[\"mean_p26_neighboor_gfilt\"] = df_rc_quality_gfilt_groupedneighboor[\"neighboor\"].apply(lambda x: mean_neighboor_gfilt(x, \"p26a\")) + df_rc_quality_gfilt_groupedneighboor[\"neighboor\"].apply(lambda x: mean_neighboor_gfilt(x, \"p26c\")) + df_rc_quality_gfilt_groupedneighboor[\"neighboor\"].apply(lambda x: mean_neighboor_gfilt(x, \"p26e\"))"
      ],
      "execution_count": 162,
      "outputs": []
    },
    {
      "cell_type": "code",
      "metadata": {
        "id": "ojmhqFy7Uf6Q"
      },
      "source": [
        "df_rc_gt_p26neighboor = pd.merge(df_rc_quality_gt_grouped1,df_rc_quality_gt_groupedneighboor[[\"mean_p26_neighboor_gt\",\"degree\"]], on=\"degree\" )"
      ],
      "execution_count": null,
      "outputs": []
    },
    {
      "cell_type": "code",
      "metadata": {
        "id": "W6GqkGiakQcd"
      },
      "source": [
        "df_rc_gcp_p26neighboor = pd.merge(df_rc_quality_gcp_grouped1,df_rc_quality_gcp_groupedneighboor[[\"mean_p26_neighboor_gcp\",\"degree\"]], on=\"degree\" )"
      ],
      "execution_count": null,
      "outputs": []
    },
    {
      "cell_type": "code",
      "metadata": {
        "id": "VLoLiIFSCmfQ"
      },
      "source": [
        "df_rc_gfilt_p26neighboor = pd.merge(df_rc_quality_gfilt_grouped1,df_rc_quality_gfilt_groupedneighboor[[\"mean_p26_neighboor_gfilt\",\"degree\"]], on=\"degree\" )"
      ],
      "execution_count": 163,
      "outputs": []
    },
    {
      "cell_type": "code",
      "metadata": {
        "id": "nategg9kVxCe"
      },
      "source": [
        "df_rc_gt_p26neighboor['p26'] = df_rc_gt_p26neighboor['p26a'] + df_rc_gt_p26neighboor['p26c'] + df_rc_gt_p26neighboor['p26e']"
      ],
      "execution_count": null,
      "outputs": []
    },
    {
      "cell_type": "code",
      "metadata": {
        "id": "QLpZx5SQkWeg"
      },
      "source": [
        "df_rc_gcp_p26neighboor['p26'] = df_rc_gcp_p26neighboor['p26a'] + df_rc_gcp_p26neighboor['p26c'] + df_rc_gcp_p26neighboor['p26e']"
      ],
      "execution_count": null,
      "outputs": []
    },
    {
      "cell_type": "code",
      "metadata": {
        "id": "d8g8cZALCw_1"
      },
      "source": [
        "df_rc_gfilt_p26neighboor['p26'] = df_rc_gfilt_p26neighboor['p26a'] + df_rc_gfilt_p26neighboor['p26c'] + df_rc_gfilt_p26neighboor['p26e']"
      ],
      "execution_count": 164,
      "outputs": []
    },
    {
      "cell_type": "code",
      "metadata": {
        "colab": {
          "base_uri": "https://localhost:8080/",
          "height": 203
        },
        "id": "IsptA7FzUoGP",
        "outputId": "372b7774-a175-4b6c-ca73-e73b7b276ed2"
      },
      "source": [
        "df_rc_gt_p26neighboor.head()"
      ],
      "execution_count": null,
      "outputs": [
        {
          "output_type": "execute_result",
          "data": {
            "text/html": [
              "<div>\n",
              "<style scoped>\n",
              "    .dataframe tbody tr th:only-of-type {\n",
              "        vertical-align: middle;\n",
              "    }\n",
              "\n",
              "    .dataframe tbody tr th {\n",
              "        vertical-align: top;\n",
              "    }\n",
              "\n",
              "    .dataframe thead th {\n",
              "        text-align: right;\n",
              "    }\n",
              "</style>\n",
              "<table border=\"1\" class=\"dataframe\">\n",
              "  <thead>\n",
              "    <tr style=\"text-align: right;\">\n",
              "      <th></th>\n",
              "      <th>degree</th>\n",
              "      <th>p11</th>\n",
              "      <th>p23</th>\n",
              "      <th>p26a</th>\n",
              "      <th>p26c</th>\n",
              "      <th>p26e</th>\n",
              "      <th>p28a</th>\n",
              "      <th>p28c</th>\n",
              "      <th>p28e</th>\n",
              "      <th>rich_club</th>\n",
              "      <th>rich_club_norm</th>\n",
              "      <th>mean_p26_neighboor_gt</th>\n",
              "      <th>p26</th>\n",
              "    </tr>\n",
              "  </thead>\n",
              "  <tbody>\n",
              "    <tr>\n",
              "      <th>0</th>\n",
              "      <td>0</td>\n",
              "      <td>115.423469</td>\n",
              "      <td>0.543438</td>\n",
              "      <td>0.028928</td>\n",
              "      <td>0.025112</td>\n",
              "      <td>0.004088</td>\n",
              "      <td>0.000264</td>\n",
              "      <td>0.0</td>\n",
              "      <td>0.000353</td>\n",
              "      <td>0.000146</td>\n",
              "      <td>1.000092</td>\n",
              "      <td>NaN</td>\n",
              "      <td>0.058127</td>\n",
              "    </tr>\n",
              "    <tr>\n",
              "      <th>1</th>\n",
              "      <td>1</td>\n",
              "      <td>410.812767</td>\n",
              "      <td>0.754284</td>\n",
              "      <td>0.100877</td>\n",
              "      <td>0.039815</td>\n",
              "      <td>0.004571</td>\n",
              "      <td>0.000069</td>\n",
              "      <td>0.0</td>\n",
              "      <td>0.000000</td>\n",
              "      <td>0.000550</td>\n",
              "      <td>0.838725</td>\n",
              "      <td>0.163960</td>\n",
              "      <td>0.145263</td>\n",
              "    </tr>\n",
              "    <tr>\n",
              "      <th>2</th>\n",
              "      <td>2</td>\n",
              "      <td>1807.084547</td>\n",
              "      <td>1.298297</td>\n",
              "      <td>0.121233</td>\n",
              "      <td>0.168209</td>\n",
              "      <td>0.018921</td>\n",
              "      <td>0.000480</td>\n",
              "      <td>0.0</td>\n",
              "      <td>0.000000</td>\n",
              "      <td>0.001266</td>\n",
              "      <td>0.879391</td>\n",
              "      <td>0.247578</td>\n",
              "      <td>0.308363</td>\n",
              "    </tr>\n",
              "    <tr>\n",
              "      <th>3</th>\n",
              "      <td>3</td>\n",
              "      <td>1318.489436</td>\n",
              "      <td>1.096386</td>\n",
              "      <td>0.175460</td>\n",
              "      <td>0.065949</td>\n",
              "      <td>0.034669</td>\n",
              "      <td>0.000000</td>\n",
              "      <td>0.0</td>\n",
              "      <td>0.003082</td>\n",
              "      <td>0.002303</td>\n",
              "      <td>0.925083</td>\n",
              "      <td>0.239085</td>\n",
              "      <td>0.276078</td>\n",
              "    </tr>\n",
              "    <tr>\n",
              "      <th>4</th>\n",
              "      <td>4</td>\n",
              "      <td>4376.119575</td>\n",
              "      <td>1.551681</td>\n",
              "      <td>0.026781</td>\n",
              "      <td>0.103230</td>\n",
              "      <td>0.003035</td>\n",
              "      <td>0.000000</td>\n",
              "      <td>0.0</td>\n",
              "      <td>0.000000</td>\n",
              "      <td>0.003884</td>\n",
              "      <td>0.974938</td>\n",
              "      <td>0.153356</td>\n",
              "      <td>0.133046</td>\n",
              "    </tr>\n",
              "  </tbody>\n",
              "</table>\n",
              "</div>"
            ],
            "text/plain": [
              "   degree          p11  ...  mean_p26_neighboor_gt       p26\n",
              "0       0   115.423469  ...                    NaN  0.058127\n",
              "1       1   410.812767  ...               0.163960  0.145263\n",
              "2       2  1807.084547  ...               0.247578  0.308363\n",
              "3       3  1318.489436  ...               0.239085  0.276078\n",
              "4       4  4376.119575  ...               0.153356  0.133046\n",
              "\n",
              "[5 rows x 13 columns]"
            ]
          },
          "metadata": {},
          "execution_count": 78
        }
      ]
    },
    {
      "cell_type": "code",
      "metadata": {
        "id": "9-uvUQLGUrWj"
      },
      "source": [
        "ccccc_1_gt = df_rc_gt_p26neighboor[[\"degree\",\"rich_club_norm\",\"p26\",\"mean_p26_neighboor_gt\"]].query('p26 >=mean_p26_neighboor_gt')\n",
        "ccccc_2_gt = df_rc_gt_p26neighboor[[\"degree\",\"rich_club_norm\",\"p26\",\"mean_p26_neighboor_gt\"]].query('p26 <mean_p26_neighboor_gt')\n",
        "\n",
        "ccccc_1_gcp = df_rc_gcp_p26neighboor[[\"degree\",\"rich_club_norm\",\"p26\",\"mean_p26_neighboor_gcp\"]].query('p26 >=mean_p26_neighboor_gcp')\n",
        "ccccc_2_gcp = df_rc_gcp_p26neighboor[[\"degree\",\"rich_club_norm\",\"p26\",\"mean_p26_neighboor_gcp\"]].query('p26 <mean_p26_neighboor_gcp')\n",
        "\n",
        "\n",
        "ccccc_1_gfilt = df_rc_gfilt_p26neighboor[[\"degree\",\"rich_club_norm\",\"p26\",\"mean_p26_neighboor_gfilt\"]].query('p26 >=mean_p26_neighboor_gfilt')\n",
        "ccccc_2_gfilt = df_rc_gfilt_p26neighboor[[\"degree\",\"rich_club_norm\",\"p26\",\"mean_p26_neighboor_gfilt\"]].query('p26 <mean_p26_neighboor_gfilt')"
      ],
      "execution_count": 165,
      "outputs": []
    },
    {
      "cell_type": "code",
      "metadata": {
        "colab": {
          "base_uri": "https://localhost:8080/",
          "height": 625
        },
        "id": "ZA5iQQUrWixB",
        "outputId": "75301e27-d71f-4568-bd90-3ea8c5611990"
      },
      "source": [
        "import numpy as np\n",
        "np.random.seed(42)\n",
        "from scipy.stats import binned_statistic\n",
        "import matplotlib.pyplot as plt\n",
        "\n",
        "fig, ax = plt.subplots(figsize=(10,10))\n",
        "scatter1 = ax.scatter(ccccc_1_gt[\"degree\"],ccccc_1_gt[\"rich_club_norm\"], s=50*ccccc_1_gt[\"p26\"], color='purple', label='GT p26')\n",
        "ax.scatter(ccccc_1_gt[\"degree\"],ccccc_1_gt[\"rich_club_norm\"], s=50*ccccc_1_gt[\"mean_p26_neighboor_gt\"], color='pink', label='GT p26 mean neighboor')\n",
        "\n",
        "ax.scatter(ccccc_2_gt[\"degree\"],ccccc_2_gt[\"rich_club_norm\"], s=50*ccccc_2_gt[\"mean_p26_neighboor_gt\"], color='pink',alpha=1)\n",
        "ax.scatter(ccccc_2_gt[\"degree\"],ccccc_2_gt[\"rich_club_norm\"], s=50*ccccc_2_gt[\"p26\"], color='purple')\n",
        "\n",
        "ax.scatter(ccccc_1_gcp[\"degree\"],ccccc_1_gcp[\"rich_club_norm\"], s=50*ccccc_1_gcp[\"p26\"], color='orange', label='GCP p26')\n",
        "ax.scatter(ccccc_1_gcp[\"degree\"],ccccc_1_gcp[\"rich_club_norm\"], s=50*ccccc_1_gcp[\"mean_p26_neighboor_gcp\"], color='#77DD77', label='GCP p26 mean neighboor')\n",
        "\n",
        "ax.scatter(ccccc_2_gcp[\"degree\"],ccccc_2_gcp[\"rich_club_norm\"], s=50*ccccc_2_gcp[\"mean_p26_neighboor_gcp\"], color='#77DD77',alpha=1)\n",
        "ax.scatter(ccccc_2_gcp[\"degree\"],ccccc_2_gcp[\"rich_club_norm\"], s=50*ccccc_2_gcp[\"p26\"], color='orange')\n",
        "\n",
        "\n",
        "ax.scatter(ccccc_1_gfilt[\"degree\"],ccccc_1_gfilt[\"rich_club_norm\"], s=50*ccccc_1_gfilt[\"p26\"], color='red',label='GFILT p26')\n",
        "ax.scatter(ccccc_1_gfilt[\"degree\"],ccccc_1_gfilt[\"rich_club_norm\"], s=50*ccccc_1_gfilt[\"mean_p26_neighboor_gfilt\"], color='yellow',label='GFILT p26 mean neighboor')\n",
        "\n",
        "ax.scatter(ccccc_2_gfilt[\"degree\"],ccccc_2_gfilt[\"rich_club_norm\"], s=50*ccccc_2_gfilt[\"mean_p26_neighboor_gfilt\"], color='yellow',alpha=1)\n",
        "ax.scatter(ccccc_2_gfilt[\"degree\"],ccccc_2_gfilt[\"rich_club_norm\"], s=50*ccccc_2_gfilt[\"p26\"], color='red')\n",
        "\n",
        "\n",
        "ax.axhline(y=1, color='g', linestyle='--',lw=1)\n",
        "\n",
        "ax.set_yscale(\"log\")\n",
        "ax.set_xscale(\"log\")\n",
        "\n",
        "handles, labels = scatter1.legend_elements(prop=\"sizes\", alpha=0.7, func = lambda x: x/50, color='purple')\n",
        "\n",
        "plt.title(\"Rich Club & p26 (Log Log)\")\n",
        "plt.xlabel(\"Grado (Log)\")\n",
        "plt.ylabel(\"Rich Club (Log)\")\n",
        "legend_color = plt.legend(bbox_to_anchor=(0.18,0.3), loc=\"center\", borderaxespad=1)\n",
        "\n",
        "plt.legend(handles, labels, loc=\"upper right\", title=\"Sizes\")\n",
        "plt.ylim(bottom=0.01, top=2)\n",
        "plt.xlim(0.9, 400)\n",
        "plt.gca().add_artist(legend_color)\n",
        "\n",
        "plt.show()"
      ],
      "execution_count": 166,
      "outputs": [
        {
          "output_type": "display_data",
          "data": {
            "image/png": "[encoded data removed]",
            "text/plain": [
              "<Figure size 720x720 with 1 Axes>"
            ]
          },
          "metadata": {
            "needs_background": "light"
          }
        }
      ]
    },
    {
      "cell_type": "code",
      "metadata": {
        "id": "bxJLWIBaXAgi"
      },
      "source": [
        "df_rc_quality_gt_groupedneighboor[\"mean_p28_neighboor_gt\"] = df_rc_quality_gt_groupedneighboor[\"neighboor\"].apply(lambda x: mean_neighboor_gt(x, \"p28a\")) + df_rc_quality_gt_groupedneighboor[\"neighboor\"].apply(lambda x: mean_neighboor_gt(x, \"p28c\")) + df_rc_quality_gt_groupedneighboor[\"neighboor\"].apply(lambda x: mean_neighboor_gt(x, \"p28e\"))"
      ],
      "execution_count": null,
      "outputs": []
    },
    {
      "cell_type": "code",
      "metadata": {
        "id": "Z_cC58cSlWqD"
      },
      "source": [
        "df_rc_quality_gcp_groupedneighboor[\"mean_p28_neighboor_gcp\"] = df_rc_quality_gcp_groupedneighboor[\"neighboor\"].apply(lambda x: mean_neighboor_gcp(x, \"p28a\")) + df_rc_quality_gcp_groupedneighboor[\"neighboor\"].apply(lambda x: mean_neighboor_gcp(x, \"p28c\")) + df_rc_quality_gcp_groupedneighboor[\"neighboor\"].apply(lambda x: mean_neighboor_gcp(x, \"p28e\"))"
      ],
      "execution_count": null,
      "outputs": []
    },
    {
      "cell_type": "code",
      "metadata": {
        "id": "qf56w596E_xa"
      },
      "source": [
        "df_rc_quality_gfilt_groupedneighboor[\"mean_p28_neighboor_gfilt\"] = df_rc_quality_gfilt_groupedneighboor[\"neighboor\"].apply(lambda x: mean_neighboor_gfilt(x, \"p28a\")) + df_rc_quality_gfilt_groupedneighboor[\"neighboor\"].apply(lambda x: mean_neighboor_gfilt(x, \"p28c\")) + df_rc_quality_gfilt_groupedneighboor[\"neighboor\"].apply(lambda x: mean_neighboor_gfilt(x, \"p28e\"))"
      ],
      "execution_count": 167,
      "outputs": []
    },
    {
      "cell_type": "code",
      "metadata": {
        "id": "g3SuS0fjdQh9"
      },
      "source": [
        "df_rc_gt_p28neighboor = pd.merge(df_rc_quality_gt_grouped1,df_rc_quality_gt_groupedneighboor[[\"mean_p28_neighboor_gt\",\"degree\"]], on=\"degree\" )"
      ],
      "execution_count": null,
      "outputs": []
    },
    {
      "cell_type": "code",
      "metadata": {
        "id": "YcNOqXhVlmKO"
      },
      "source": [
        "df_rc_gcp_p28neighboor = pd.merge(df_rc_quality_gcp_grouped1,df_rc_quality_gcp_groupedneighboor[[\"mean_p28_neighboor_gcp\",\"degree\"]], on=\"degree\" )"
      ],
      "execution_count": null,
      "outputs": []
    },
    {
      "cell_type": "code",
      "metadata": {
        "id": "yT0wScxxFW7S"
      },
      "source": [
        "df_rc_gfilt_p28neighboor = pd.merge(df_rc_quality_gfilt_grouped1,df_rc_quality_gfilt_groupedneighboor[[\"mean_p28_neighboor_gfilt\",\"degree\"]], on=\"degree\" )"
      ],
      "execution_count": 168,
      "outputs": []
    },
    {
      "cell_type": "code",
      "metadata": {
        "id": "EnzbGnvRdXQ6"
      },
      "source": [
        "df_rc_gt_p28neighboor['p28'] = df_rc_gt_p28neighboor['p28a'] + df_rc_gt_p26neighboor['p28c'] + df_rc_gt_p26neighboor['p28e']"
      ],
      "execution_count": null,
      "outputs": []
    },
    {
      "cell_type": "code",
      "metadata": {
        "id": "c0-SQFnZlvW5"
      },
      "source": [
        "df_rc_gcp_p28neighboor['p28'] = df_rc_gcp_p28neighboor['p28a'] + df_rc_gcp_p26neighboor['p28c'] + df_rc_gcp_p26neighboor['p28e']"
      ],
      "execution_count": null,
      "outputs": []
    },
    {
      "cell_type": "code",
      "metadata": {
        "id": "h7OaTEiBFiPp"
      },
      "source": [
        "df_rc_gfilt_p28neighboor['p28'] = df_rc_gfilt_p28neighboor['p28a'] + df_rc_gfilt_p26neighboor['p28c'] + df_rc_gfilt_p26neighboor['p28e']"
      ],
      "execution_count": 169,
      "outputs": []
    },
    {
      "cell_type": "code",
      "metadata": {
        "colab": {
          "base_uri": "https://localhost:8080/",
          "height": 203
        },
        "id": "vHqiWP0Mdfwj",
        "outputId": "34d9b532-f28f-4195-ff17-af27221f03b9"
      },
      "source": [
        "df_rc_gt_p28neighboor.head()"
      ],
      "execution_count": null,
      "outputs": [
        {
          "output_type": "execute_result",
          "data": {
            "text/html": [
              "<div>\n",
              "<style scoped>\n",
              "    .dataframe tbody tr th:only-of-type {\n",
              "        vertical-align: middle;\n",
              "    }\n",
              "\n",
              "    .dataframe tbody tr th {\n",
              "        vertical-align: top;\n",
              "    }\n",
              "\n",
              "    .dataframe thead th {\n",
              "        text-align: right;\n",
              "    }\n",
              "</style>\n",
              "<table border=\"1\" class=\"dataframe\">\n",
              "  <thead>\n",
              "    <tr style=\"text-align: right;\">\n",
              "      <th></th>\n",
              "      <th>degree</th>\n",
              "      <th>p11</th>\n",
              "      <th>p23</th>\n",
              "      <th>p26a</th>\n",
              "      <th>p26c</th>\n",
              "      <th>p26e</th>\n",
              "      <th>p28a</th>\n",
              "      <th>p28c</th>\n",
              "      <th>p28e</th>\n",
              "      <th>rich_club</th>\n",
              "      <th>rich_club_norm</th>\n",
              "      <th>mean_p28_neighboor_gt</th>\n",
              "      <th>p28</th>\n",
              "    </tr>\n",
              "  </thead>\n",
              "  <tbody>\n",
              "    <tr>\n",
              "      <th>0</th>\n",
              "      <td>0</td>\n",
              "      <td>115.423469</td>\n",
              "      <td>0.543438</td>\n",
              "      <td>0.028928</td>\n",
              "      <td>0.025112</td>\n",
              "      <td>0.004088</td>\n",
              "      <td>0.000264</td>\n",
              "      <td>0.0</td>\n",
              "      <td>0.000353</td>\n",
              "      <td>0.000146</td>\n",
              "      <td>1.000092</td>\n",
              "      <td>NaN</td>\n",
              "      <td>0.000617</td>\n",
              "    </tr>\n",
              "    <tr>\n",
              "      <th>1</th>\n",
              "      <td>1</td>\n",
              "      <td>410.812767</td>\n",
              "      <td>0.754284</td>\n",
              "      <td>0.100877</td>\n",
              "      <td>0.039815</td>\n",
              "      <td>0.004571</td>\n",
              "      <td>0.000069</td>\n",
              "      <td>0.0</td>\n",
              "      <td>0.000000</td>\n",
              "      <td>0.000550</td>\n",
              "      <td>0.838725</td>\n",
              "      <td>0.000422</td>\n",
              "      <td>0.000069</td>\n",
              "    </tr>\n",
              "    <tr>\n",
              "      <th>2</th>\n",
              "      <td>2</td>\n",
              "      <td>1807.084547</td>\n",
              "      <td>1.298297</td>\n",
              "      <td>0.121233</td>\n",
              "      <td>0.168209</td>\n",
              "      <td>0.018921</td>\n",
              "      <td>0.000480</td>\n",
              "      <td>0.0</td>\n",
              "      <td>0.000000</td>\n",
              "      <td>0.001266</td>\n",
              "      <td>0.879391</td>\n",
              "      <td>0.000321</td>\n",
              "      <td>0.000480</td>\n",
              "    </tr>\n",
              "    <tr>\n",
              "      <th>3</th>\n",
              "      <td>3</td>\n",
              "      <td>1318.489436</td>\n",
              "      <td>1.096386</td>\n",
              "      <td>0.175460</td>\n",
              "      <td>0.065949</td>\n",
              "      <td>0.034669</td>\n",
              "      <td>0.000000</td>\n",
              "      <td>0.0</td>\n",
              "      <td>0.003082</td>\n",
              "      <td>0.002303</td>\n",
              "      <td>0.925083</td>\n",
              "      <td>0.002526</td>\n",
              "      <td>0.003082</td>\n",
              "    </tr>\n",
              "    <tr>\n",
              "      <th>4</th>\n",
              "      <td>4</td>\n",
              "      <td>4376.119575</td>\n",
              "      <td>1.551681</td>\n",
              "      <td>0.026781</td>\n",
              "      <td>0.103230</td>\n",
              "      <td>0.003035</td>\n",
              "      <td>0.000000</td>\n",
              "      <td>0.0</td>\n",
              "      <td>0.000000</td>\n",
              "      <td>0.003884</td>\n",
              "      <td>0.974938</td>\n",
              "      <td>0.000597</td>\n",
              "      <td>0.000000</td>\n",
              "    </tr>\n",
              "  </tbody>\n",
              "</table>\n",
              "</div>"
            ],
            "text/plain": [
              "   degree          p11  ...  mean_p28_neighboor_gt       p28\n",
              "0       0   115.423469  ...                    NaN  0.000617\n",
              "1       1   410.812767  ...               0.000422  0.000069\n",
              "2       2  1807.084547  ...               0.000321  0.000480\n",
              "3       3  1318.489436  ...               0.002526  0.003082\n",
              "4       4  4376.119575  ...               0.000597  0.000000\n",
              "\n",
              "[5 rows x 13 columns]"
            ]
          },
          "metadata": {},
          "execution_count": 85
        }
      ]
    },
    {
      "cell_type": "code",
      "metadata": {
        "id": "SEln7U8ddjA4"
      },
      "source": [
        "ddddd_1_gt = df_rc_gt_p28neighboor[[\"degree\",\"rich_club_norm\",\"p28\",\"mean_p28_neighboor_gt\"]].query('p28 >=mean_p28_neighboor_gt')\n",
        "ddddd_2_gt = df_rc_gt_p28neighboor[[\"degree\",\"rich_club_norm\",\"p28\",\"mean_p28_neighboor_gt\"]].query('p28 <mean_p28_neighboor_gt')\n",
        "\n",
        "ddddd_1_gcp = df_rc_gcp_p28neighboor[[\"degree\",\"rich_club_norm\",\"p28\",\"mean_p28_neighboor_gcp\"]].query('p28 >=mean_p28_neighboor_gcp')\n",
        "ddddd_2_gcp = df_rc_gcp_p28neighboor[[\"degree\",\"rich_club_norm\",\"p28\",\"mean_p28_neighboor_gcp\"]].query('p28 <mean_p28_neighboor_gcp')\n",
        "\n",
        "ddddd_1_gfilt = df_rc_gfilt_p28neighboor[[\"degree\",\"rich_club_norm\",\"p28\",\"mean_p28_neighboor_gfilt\"]].query('p28 >=mean_p28_neighboor_gfilt')\n",
        "ddddd_2_gfilt = df_rc_gfilt_p28neighboor[[\"degree\",\"rich_club_norm\",\"p28\",\"mean_p28_neighboor_gfilt\"]].query('p28 <mean_p28_neighboor_gfilt')"
      ],
      "execution_count": 170,
      "outputs": []
    },
    {
      "cell_type": "code",
      "metadata": {
        "colab": {
          "base_uri": "https://localhost:8080/",
          "height": 625
        },
        "id": "T5ox1B05d1Yk",
        "outputId": "11175a8c-d451-4c71-de2c-85526c57b8d7"
      },
      "source": [
        "import numpy as np\n",
        "np.random.seed(42)\n",
        "from scipy.stats import binned_statistic\n",
        "import matplotlib.pyplot as plt\n",
        "\n",
        "fig, ax = plt.subplots(figsize=(10,10))\n",
        "scatter1 = ax.scatter(ddddd_1_gt[\"degree\"],ddddd_1_gt[\"rich_club_norm\"], s=10000*ddddd_1_gt[\"p28\"], color='purple', label='GT p28')\n",
        "ax.scatter(ddddd_1_gt[\"degree\"],ddddd_1_gt[\"rich_club_norm\"], s=10000*ddddd_1_gt[\"mean_p28_neighboor_gt\"], color='pink', label='GT p28 mean neighboor')\n",
        "\n",
        "ax.scatter(ddddd_2_gt[\"degree\"],ddddd_2_gt[\"rich_club_norm\"], s=10000*ddddd_2_gt[\"mean_p28_neighboor_gt\"], color='pink',alpha=1)\n",
        "ax.scatter(ddddd_2_gt[\"degree\"],ddddd_2_gt[\"rich_club_norm\"], s=10000*ddddd_2_gt[\"p28\"], color='purple')\n",
        "\n",
        "ax.scatter(ddddd_1_gcp[\"degree\"],ddddd_1_gcp[\"rich_club_norm\"], s=10000*ddddd_1_gcp[\"p28\"], color='orange',label='GCP p28')\n",
        "ax.scatter(ddddd_1_gcp[\"degree\"],ddddd_1_gcp[\"rich_club_norm\"], s=10000*ddddd_1_gcp[\"mean_p28_neighboor_gcp\"], color='#77DD77',label='GCP p28 mean neighboor')\n",
        "\n",
        "ax.scatter(ddddd_2_gcp[\"degree\"],ddddd_2_gcp[\"rich_club_norm\"], s=10000*ddddd_2_gcp[\"mean_p28_neighboor_gcp\"], color='#77DD77',alpha=1)\n",
        "ax.scatter(ddddd_2_gcp[\"degree\"],ddddd_2_gcp[\"rich_club_norm\"], s=10000*ddddd_2_gcp[\"p28\"], color='orange')\n",
        "\n",
        "\n",
        "ax.scatter(ddddd_1_gfilt[\"degree\"],ddddd_1_gfilt[\"rich_club_norm\"], s=10000*ddddd_1_gfilt[\"p28\"], color='red',label='GFILT p28')\n",
        "ax.scatter(ddddd_1_gfilt[\"degree\"],ddddd_1_gfilt[\"rich_club_norm\"], s=10000*ddddd_1_gfilt[\"mean_p28_neighboor_gfilt\"], color='yellow',label='GFILT p28 mean neighboor')\n",
        "\n",
        "ax.scatter(ddddd_2_gfilt[\"degree\"],ddddd_2_gfilt[\"rich_club_norm\"], s=10000*ddddd_2_gfilt[\"mean_p28_neighboor_gfilt\"], color='yellow',alpha=1)\n",
        "ax.scatter(ddddd_2_gfilt[\"degree\"],ddddd_2_gfilt[\"rich_club_norm\"], s=10000*ddddd_2_gfilt[\"p28\"], color='red')\n",
        "\n",
        "ax.axhline(y=1, color='g', linestyle='--',lw=1)\n",
        "\n",
        "ax.set_yscale(\"log\")\n",
        "ax.set_xscale(\"log\")\n",
        "\n",
        "handles, labels = scatter1.legend_elements(prop=\"sizes\", alpha=0.7, func = lambda x: x/10000, color='purple')\n",
        "\n",
        "plt.title(\"Rich Club & p28 (Log Log)\")\n",
        "plt.xlabel(\"Grado (Log)\")\n",
        "plt.ylabel(\"Rich Club (Log)\")\n",
        "legend_color = plt.legend(bbox_to_anchor=(0.19,0.3), loc=\"center\", borderaxespad=1)\n",
        "\n",
        "plt.legend(handles, labels, loc=\"upper right\", title=\"Sizes\")\n",
        "plt.ylim(bottom=0.01, top=2)\n",
        "plt.xlim(0.9, 400)\n",
        "\n",
        "plt.gca().add_artist(legend_color)\n",
        "\n",
        "plt.show()"
      ],
      "execution_count": 172,
      "outputs": [
        {
          "output_type": "display_data",
          "data": {
            "image/png": "[encoded data removed]",
            "text/plain": [
              "<Figure size 720x720 with 1 Axes>"
            ]
          },
          "metadata": {
            "needs_background": "light"
          }
        }
      ]
    }
  ]
}